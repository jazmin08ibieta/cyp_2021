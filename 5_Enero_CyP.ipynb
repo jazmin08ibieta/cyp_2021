{
  "nbformat": 4,
  "nbformat_minor": 0,
  "metadata": {
    "colab": {
      "name": "5_Enero_CyP",
      "provenance": [],
      "authorship_tag": "ABX9TyPGob2NJBNlVwcnhdbA6u4e",
      "include_colab_link": true
    },
    "kernelspec": {
      "name": "python3",
      "display_name": "Python 3"
    }
  },
  "cells": [
    {
      "cell_type": "markdown",
      "metadata": {
        "id": "view-in-github",
        "colab_type": "text"
      },
      "source": [
        "<a href=\"https://colab.research.google.com/github/jazmin08ibieta/cyp_2021/blob/main/5_Enero_CyP.ipynb\" target=\"_parent\"><img src=\"https://colab.research.google.com/assets/colab-badge.svg\" alt=\"Open In Colab\"/></a>"
      ]
    },
    {
      "cell_type": "code",
      "metadata": {
        "colab": {
          "base_uri": "https://localhost:8080/"
        },
        "id": "LBtvSLuHjJAg",
        "outputId": "55499458-7bde-42bd-c869-10c8ba1e8213"
      },
      "source": [
        "sueldos=[0.0 for x in range(7)]\r\n",
        "print(sueldos)\r\n",
        "sueldos[0]=12.3\r\n",
        "sueldos[1]=32.3\r\n",
        "sueldos[2]=43.3\r\n",
        "sueldos[3]=11.3\r\n",
        "sueldos[4]=77.3\r\n",
        "sueldos[5]=88.3\r\n",
        "sueldos[6]=99.3\r\n",
        "print(sueldos)\r\n",
        "\"\"\"\"\r\n",
        "for j in range(7):\r\n",
        "  sueldos[j]=float(input(\"Introduce un sueldo:\"))\r\n",
        "\"\"\"\"\"\r\n",
        "sueldo = [float(x) for x in range(1, 8)]\r\n",
        "sueldo = []\r\n",
        "for i in range(0, 7):\r\n",
        "    sueldo.append(float(i + 1))\r\n",
        "for i in sueldo:\r\n",
        "    print(i)\r\n",
        "#Automatizar el recorrido de los elementos\r\n",
        "for i in range(7):\r\n",
        "  print(f\"El trabador gana{int(i)+1}gana ${sueldo[i]}\") "
      ],
      "execution_count": 15,
      "outputs": [
        {
          "output_type": "stream",
          "text": [
            "[0.0, 0.0, 0.0, 0.0, 0.0, 0.0, 0.0]\n",
            "[12.3, 32.3, 43.3, 11.3, 77.3, 88.3, 99.3]\n",
            "1.0\n",
            "2.0\n",
            "3.0\n",
            "4.0\n",
            "5.0\n",
            "6.0\n",
            "7.0\n",
            "El trabador gana1gana $1.0\n",
            "El trabador gana2gana $2.0\n",
            "El trabador gana3gana $3.0\n",
            "El trabador gana4gana $4.0\n",
            "El trabador gana5gana $5.0\n",
            "El trabador gana6gana $6.0\n",
            "El trabador gana7gana $7.0\n"
          ],
          "name": "stdout"
        }
      ]
    },
    {
      "cell_type": "code",
      "metadata": {
        "colab": {
          "base_uri": "https://localhost:8080/"
        },
        "id": "mrj0lO6iozPJ",
        "outputId": "5345e7da-0c54-45ca-e917-4e4b636013eb"
      },
      "source": [
        "#Problema 4.1\r\n",
        "MAXIMO=7\r\n",
        "sueldos=[0.0 for x in range(MAXIMO)]\r\n",
        "suma=0.0\r\n",
        "promedio=0.0\r\n",
        "\r\n",
        "for i in range(MAXIMO):\r\n",
        "  sueldos[i]=float(input(\"Dame el sueldo:\"))\r\n",
        "for i in range(MAXIMO):\r\n",
        "  print(f\"Trabador {i+1}, gana: {sueldos[i]}\")\r\n",
        "for i in range(MAXIMO):\r\n",
        "  suma=suma+sueldos[i]\r\n",
        "\r\n",
        "promedio=suma/MAXIMO\r\n",
        "\r\n",
        "print(f\"El promedio de sueldo es ${promedio}\")\r\n",
        "\r\n",
        "for i in range (MAXIMO):\r\n",
        "  if sueldos[i] >promedio:\r\n",
        "    print(f\"El trabajador {i+1} tiene un sueldo mayor al promedio\")"
      ],
      "execution_count": 18,
      "outputs": [
        {
          "output_type": "stream",
          "text": [
            "Dame el sueldo:4\n",
            "Dame el sueldo:5\n",
            "Dame el sueldo:4\n",
            "Dame el sueldo:5\n",
            "Dame el sueldo:4\n",
            "Dame el sueldo:5\n",
            "Dame el sueldo:4\n",
            "Trabador 1, gana: 4.0\n",
            "Trabador 2, gana: 5.0\n",
            "Trabador 3, gana: 4.0\n",
            "Trabador 4, gana: 5.0\n",
            "Trabador 5, gana: 4.0\n",
            "Trabador 6, gana: 5.0\n",
            "Trabador 7, gana: 4.0\n",
            "El promedio de sueldo es $4.428571428571429\n",
            "El trabajador 2 tiene un sueldo mayor al promedio\n",
            "El trabajador 4 tiene un sueldo mayor al promedio\n",
            "El trabajador 6 tiene un sueldo mayor al promedio\n"
          ],
          "name": "stdout"
        }
      ]
    },
    {
      "cell_type": "code",
      "metadata": {
        "id": "QWIQBa51uwjg"
      },
      "source": [
        "num = 5\r\n",
        "valor =  [0.0 for x in range(num)]\r\n",
        "sum = 0.0\r\n",
        "prom = 0.0\r\n",
        "M = 0\r\n",
        "m = 100000000\r\n",
        "\r\n",
        "for i in range(num):\r\n",
        "  valor[i] = int(input(\"Ingrese un valor entero positivo: \"))\r\n",
        "  if valor[i] > M:\r\n",
        "    M = valor[i]\r\n",
        "  elif valor[i] < m:\r\n",
        "    m = valor[i]\r\n",
        "\r\n",
        "for i in range(num):\r\n",
        "  sum = sum + valor[i]\r\n",
        "\r\n",
        "prom = sum / num\r\n",
        "\r\n",
        "print(f\"El numero mayor es {M}\")\r\n",
        "print(f\"El numero menor es {m}\")\r\n",
        "print(f\"El promedio es {prom}\")"
      ],
      "execution_count": null,
      "outputs": []
    },
    {
      "cell_type": "code",
      "metadata": {
        "id": "jnx1r-u4w4-t"
      },
      "source": [
        "#Problema 4.1\r\n",
        "\r\n",
        "N=int(input(\"Ingrese el numero de elementos del arreglo: \"))\r\n",
        "Vec= []\r\n",
        "if 1<=N and N <=500:\r\n",
        "  VEC=[0  for x in range(N)]\r\n",
        "  print(VEC)\r\n",
        "  for I in range (N):\r\n",
        "    VEC[I]=int(input(\"Ingrese valor: \"+ str(I+1) +\":\"))\r\n",
        "  print(\"Lista de numeros sin repeticiones: \")\r\n",
        "  I=0\r\n",
        "  while I<N:\r\n",
        "    print(VEC[I])\r\n",
        "    REPET=VEC[I]\r\n",
        "    while I< N and REPET == VEC[i]:\r\n",
        "      I=I+1\r\n",
        "    I=I+1\r\n",
        "\r\n",
        "else:\r\n",
        "  print(\"El numero de elementos del arreglo es incorrecto\")"
      ],
      "execution_count": null,
      "outputs": []
    }
  ]
}