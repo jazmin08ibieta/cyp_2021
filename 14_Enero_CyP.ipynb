{
  "nbformat": 4,
  "nbformat_minor": 0,
  "metadata": {
    "colab": {
      "name": "14_Enero_CyP.ipynb",
      "provenance": [],
      "authorship_tag": "ABX9TyP1PcucrGqoTJ2pjOAXgyPM",
      "include_colab_link": true
    },
    "kernelspec": {
      "name": "python3",
      "display_name": "Python 3"
    }
  },
  "cells": [
    {
      "cell_type": "markdown",
      "metadata": {
        "id": "view-in-github",
        "colab_type": "text"
      },
      "source": [
        "<a href=\"https://colab.research.google.com/github/jazmin08ibieta/cyp_2021/blob/main/14_Enero_CyP.ipynb\" target=\"_parent\"><img src=\"https://colab.research.google.com/assets/colab-badge.svg\" alt=\"Open In Colab\"/></a>"
      ]
    },
    {
      "cell_type": "markdown",
      "metadata": {
        "id": "-RR5ELJM5DOB"
      },
      "source": [
        "# Palabras reservadas de Python 3\r\n",
        "\r\n",
        "1. False\r\n",
        "1. None\r\n",
        "1. True\r\n",
        "1. and\r\n",
        "1. as\r\n",
        "1. assert\r\n",
        "1. break\r\n",
        "1. class\r\n",
        "1. continue\r\n",
        "1. def\r\n",
        "1. del\r\n",
        "1. elif\r\n",
        "1. else\r\n",
        "1. except\r\n",
        "1. finally\r\n",
        "1. for\r\n",
        "1. from\r\n",
        "1. global\r\n",
        "1. if\r\n",
        "1. import\r\n",
        "1. in\r\n",
        "1. is\r\n",
        "1. lambda\r\n",
        "1. nonlocal\r\n",
        "1. not\r\n",
        "1. or\r\n",
        "1. pass\r\n",
        "1. raise\r\n",
        "1. return\r\n",
        "1. try\r\n",
        "1. while\r\n",
        "1. with\r\n",
        "1. yield"
      ]
    },
    {
      "cell_type": "code",
      "metadata": {
        "colab": {
          "base_uri": "https://localhost:8080/"
        },
        "id": "6Xu6hhZG5Xtp",
        "outputId": "c5d2b47b-018a-46c3-924f-a360189836d9"
      },
      "source": [
        "import keyword\r\n",
        "pr=keyword.kwlist\r\n",
        "print(len(pr))\r\n",
        "for palabra in pr:\r\n",
        "  print(\"1.\",palabra )"
      ],
      "execution_count": 7,
      "outputs": [
        {
          "output_type": "stream",
          "text": [
            "33\n",
            "1. False\n",
            "1. None\n",
            "1. True\n",
            "1. and\n",
            "1. as\n",
            "1. assert\n",
            "1. break\n",
            "1. class\n",
            "1. continue\n",
            "1. def\n",
            "1. del\n",
            "1. elif\n",
            "1. else\n",
            "1. except\n",
            "1. finally\n",
            "1. for\n",
            "1. from\n",
            "1. global\n",
            "1. if\n",
            "1. import\n",
            "1. in\n",
            "1. is\n",
            "1. lambda\n",
            "1. nonlocal\n",
            "1. not\n",
            "1. or\n",
            "1. pass\n",
            "1. raise\n",
            "1. return\n",
            "1. try\n",
            "1. while\n",
            "1. with\n",
            "1. yield\n"
          ],
          "name": "stdout"
        }
      ]
    },
    {
      "cell_type": "markdown",
      "metadata": {
        "id": "PrOdZjvB61v2"
      },
      "source": [
        "## Variable\r\n",
        "Es un espacio de memoria de la computadora para almacenar valores que cambian a lo largo de la ejecucion del programa. Este espacio de memoria esta referenciado por un identificador, el cual tiene ciertas reglas de nombrado.\r\n",
        "-No puede iniciar con numero.\r\n",
        "-No debe ser igual a alguna de las palabras reservadas.\r\n",
        "-Puede iniciar con guion bajo\r\n",
        "- Evitar nombres de variables largos.\r\n",
        "-Evitar muy cortos ejemplos: x, Y, i etc\r\n",
        "- Usar notacion snake_case\r\n"
      ]
    },
    {
      "cell_type": "code",
      "metadata": {
        "colab": {
          "base_uri": "https://localhost:8080/",
          "height": 52
        },
        "id": "fLkcA4TI7r6O",
        "outputId": "901a3d6d-3bdc-421b-95b2-20ff7c5e4ba2"
      },
      "source": [
        "_2edad=12\r\n",
        "print(_2edad)\r\n",
        "\"\"\"\r\n",
        "No se puede usar una palabra reservada como identidicador de variable.\r\n",
        "for=12\r\n",
        "print(for)\r\n",
        "\"\"\"\r\n",
        "dias_de_la_semana=7\r\n",
        "print(dias_de_la_semana)\r\n",
        "#Lower camel case\r\n",
        "diasDeLaSemana=7\r\n",
        "#Upper camel case.\r\n",
        "SemanaSanta=23"
      ],
      "execution_count": 11,
      "outputs": [
        {
          "output_type": "stream",
          "text": [
            "12\n"
          ],
          "name": "stdout"
        },
        {
          "output_type": "execute_result",
          "data": {
            "application/vnd.google.colaboratory.intrinsic+json": {
              "type": "string"
            },
            "text/plain": [
              "'\\nNo se puede usar una palabra reservada como identidicador de variable.\\nfor=12\\nprint(for)\\n'"
            ]
          },
          "metadata": {
            "tags": []
          },
          "execution_count": 11
        }
      ]
    },
    {
      "cell_type": "code",
      "metadata": {
        "id": "R46sSC4n8kMy"
      },
      "source": [
        "\"\"\"\r\n",
        "La notacion snake case consta de formar el identrificador de variable separando las palabras del mismo con un guion bajo\r\n",
        "Se recomienda que los identificadores se escriban en minusculas para las variables y en mayuscula para las constantes.\r\n",
        "Es decir si tenemos una variable para los dias de la semana se escribiria asi:\r\n",
        "dias_de_la_semana=7\r\n",
        "dias_mes=31\r\n",
        "limite_maximo=100 \r\n",
        "\"\"\""
      ],
      "execution_count": null,
      "outputs": []
    },
    {
      "cell_type": "markdown",
      "metadata": {
        "id": "CGuLdXSS96Yu"
      },
      "source": [
        "#Tipos de datos.\r\n",
        "-tipos numericos\r\n",
        "    -int 4 bytes (1,2,3,1234, etc)\r\n",
        "    -float 4 bytes (1.14, 3.1416, etc)\r\n",
        "    -long  8 bytes (1, 3, 5, etc)\r\n",
        "    -complex (Raices negativas) 3+2i\r\n",
        "\r\n",
        "-Boolean: true o false.\r\n",
        "\r\n",
        "-String: cadena de caracteres(\"cad\", 'cad' o \"\"cad\"\")\r\n",
        "\r\n",
        "-listas ([1, 2, 3, 4] , [a, b , c, 1, 2])\r\n",
        "\r\n",
        "-tuplas (   (edad, 23)  ,  (3,4)  )\r\n",
        "\r\n",
        "-conjutos \r\n",
        "\r\n",
        "-diccionarios ({\"nombre\":\"juan\"})"
      ]
    },
    {
      "cell_type": "markdown",
      "metadata": {
        "id": "-REFKa0PEB5t"
      },
      "source": [
        "#Tipo de dato string\r\n",
        "Este tipo de dato permite almacenar cadenas de caracteres como por ejemplo:\r\n",
        "```\r\n",
        "nombre= 'Jesús'\r\n",
        "lugar_nacimiento=\"Mexico D.F, Tacuba\"\r\n",
        "frase_favorita=\"\"\"\r\n",
        "El conocimiento me persigue,\r\n",
        "pero...\r\n",
        "yo soy mas rapido\r\n",
        "\"\"\"\r\n",
        "```"
      ]
    },
    {
      "cell_type": "code",
      "metadata": {
        "colab": {
          "base_uri": "https://localhost:8080/"
        },
        "id": "LqWgeFvwFF2y",
        "outputId": "da32ec7e-6b9a-4d35-c01b-496dc9afea03"
      },
      "source": [
        "nombre= 'Jesús'\r\n",
        "lugar_nacimiento=\"Mexico D.F, Tacuba\"\r\n",
        "frase_favorita=\"\"\"\r\n",
        "El conocimiento me persigue,\r\n",
        "pero...\r\n",
        "yo soy mas rapido\r\n",
        "\"\"\"\r\n",
        "print(nombre)\r\n",
        "print(lugar_nacimiento)\r\n",
        "print(frase_favorita)"
      ],
      "execution_count": 14,
      "outputs": [
        {
          "output_type": "stream",
          "text": [
            "Jesús\n",
            "Mexico D.F, Tacuba\n",
            "\n",
            "El conocimiento me persigue,\n",
            "pero...\n",
            "yo soy mas rapido\n",
            "\n"
          ],
          "name": "stdout"
        }
      ]
    },
    {
      "cell_type": "markdown",
      "metadata": {
        "id": "RnbJgjc3FiX6"
      },
      "source": [
        "#Strings como arreglo\r\n",
        "un string en python es almacenado como el tipo de dato (estructura de datos) arreglo.\r\n",
        "\r\n",
        "por ejemplo.\r\n",
        "```\r\n",
        "nombre='Jesús'\r\n",
        "```\r\n",
        "El elemento 'J' es alamacenado en un arreglo en la posicion 0.\r\n",
        "La 'e' en la 1 y asi sucesivamente.\r\n",
        "\r\n",
        "###Selector\r\n",
        "La notacion para seleccionar un elemento del arreglo es:\r\n",
        "[1]\r\n",
        "\r\n",
        "Donde el valor interno debe ser un valor numerico entero.\r\n",
        "\r\n",
        "\r\n",
        "\r\n"
      ]
    },
    {
      "cell_type": "code",
      "metadata": {
        "colab": {
          "base_uri": "https://localhost:8080/"
        },
        "id": "VPwtEgG2GILL",
        "outputId": "be634005-1a0c-408a-e177-cde9e0154435"
      },
      "source": [
        "nombre='Jesús'\r\n",
        "print(len(nombre))\r\n",
        "print(nombre)\r\n",
        "print(nombre[0])\r\n",
        "print(nombre[3])"
      ],
      "execution_count": 17,
      "outputs": [
        {
          "output_type": "stream",
          "text": [
            "5\n",
            "Jesús\n",
            "J\n",
            "ú\n"
          ],
          "name": "stdout"
        }
      ]
    },
    {
      "cell_type": "markdown",
      "metadata": {
        "id": "a3tC79PKHSYl"
      },
      "source": [
        "#Iterar sobre un string\r\n",
        "\r\n",
        "Se puede iterar sobre un string con un for de la forma siguiente:\r\n",
        "\r\n",
        "\r\n",
        "```\r\n",
        "for letra in range ( len(nombre)):\r\n",
        "   print(letra)\r\n",
        "\r\n",
        "```"
      ]
    },
    {
      "cell_type": "code",
      "metadata": {
        "colab": {
          "base_uri": "https://localhost:8080/"
        },
        "id": "AxcUGj6vIXuR",
        "outputId": "fcdb770d-cfaa-4051-fc33-0423e8a05bf8"
      },
      "source": [
        "for indice in range (len(nombre)): #0, 1, 2, 3, 4\r\n",
        "   print(indice, end= \" \")\r\n",
        "   print(nombre[indice])\r\n"
      ],
      "execution_count": 22,
      "outputs": [
        {
          "output_type": "stream",
          "text": [
            "0 J\n",
            "1 e\n",
            "2 s\n",
            "3 ú\n",
            "4 s\n"
          ],
          "name": "stdout"
        }
      ]
    },
    {
      "cell_type": "markdown",
      "metadata": {
        "id": "QfIYjYTsJ8kq"
      },
      "source": [
        "#Funcion range (inicio, stop, incremento)\r\n",
        "\r\n",
        "El inicio es opcional y por defecto tiene el valor 0.\r\n",
        "\r\n",
        "El incremento tambien es opcional y por defecto es 1."
      ]
    },
    {
      "cell_type": "code",
      "metadata": {
        "colab": {
          "base_uri": "https://localhost:8080/"
        },
        "id": "N9PzBFQkJyiM",
        "outputId": "72a61d40-ac32-40d7-a1d8-4bf0153ac40c"
      },
      "source": [
        "for indice in range (1, len(nombre), 1): #No se incia en la primera posicion\r\n",
        "  print(nombre[indice])\r\n"
      ],
      "execution_count": 23,
      "outputs": [
        {
          "output_type": "stream",
          "text": [
            "e\n",
            "s\n",
            "ú\n",
            "s\n"
          ],
          "name": "stdout"
        }
      ]
    },
    {
      "cell_type": "code",
      "metadata": {
        "colab": {
          "base_uri": "https://localhost:8080/"
        },
        "id": "mWtDsnz-K3Qi",
        "outputId": "d59b0cae-0bb4-4ddf-91b3-c0cf0739feb1"
      },
      "source": [
        "for indice in range (4, -1, -1): \r\n",
        "  print(nombre[indice])"
      ],
      "execution_count": 28,
      "outputs": [
        {
          "output_type": "stream",
          "text": [
            "s\n",
            "ú\n",
            "s\n",
            "e\n",
            "J\n"
          ],
          "name": "stdout"
        }
      ]
    },
    {
      "cell_type": "markdown",
      "metadata": {
        "id": "zDfbLiyvL4lN"
      },
      "source": [
        "#String e indexadp negativo\r\n",
        "\r\n",
        "En python 3 se agrega una nueva caracteristica a los arreglos de las cadenas de caracteres, esta consta de la capacidad de indexar de forma negativa.\r\n",
        "\r\n",
        "La logica es la siguiente \r\n",
        "\r\n",
        "El ultimo se le considera como indice (ALTERNATIVO) -1, con lo cual se podria referenciar el final de la cadena sin la necesidad de saber el tamaño de la misma.\r\n",
        "\r\n",
        "```\r\n",
        "nombre= 'jesus'\r\n",
        "```\r\n",
        "indice normal 0 1 2 3 4 \r\n",
        "\r\n",
        "                 j e s u s\r\n",
        "\r\n",
        "indice alter. -5 -4 -3 -2 -1"
      ]
    },
    {
      "cell_type": "code",
      "metadata": {
        "colab": {
          "base_uri": "https://localhost:8080/"
        },
        "id": "EOtRWWNrMmYA",
        "outputId": "f11e72d9-b175-4f99-b89b-41122fe289aa"
      },
      "source": [
        "nombre=\"jazmin\"\r\n",
        "print(nombre[5]) #Indexado normla\r\n",
        "print(nombre[-1]) #Indexado alternativo con negativos\r\n",
        "print(\"\")\r\n",
        "for indice_alter in range (-1, -6, -1 ):\r\n",
        "  print(nombre[indice_alter])"
      ],
      "execution_count": 32,
      "outputs": [
        {
          "output_type": "stream",
          "text": [
            "n\n",
            "n\n",
            "\n",
            "n\n",
            "i\n",
            "m\n",
            "z\n",
            "a\n"
          ],
          "name": "stdout"
        }
      ]
    },
    {
      "cell_type": "markdown",
      "metadata": {
        "id": "8Y5mIypwPz8r"
      },
      "source": [
        "#Slicing de cadenas de caracteres.\r\n",
        "\r\n",
        "Esta caracteristica permite sacar secciones de una cadena cfon la siguiente sintaxis.\r\n",
        "```\r\n",
        "[inicio:stop:incremento]\r\n",
        "```\r\n",
        "donde incio son opcionales y tambien soportan indexado alternativo (negativos)."
      ]
    },
    {
      "cell_type": "code",
      "metadata": {
        "colab": {
          "base_uri": "https://localhost:8080/"
        },
        "id": "qP1_wO3mQahY",
        "outputId": "695890c9-5152-4ae8-a58d-54443c60f40d"
      },
      "source": [
        "facultad=\"Facultad de estudios superiores Aragon (la mejor)\"\r\n",
        "print(facultad)\r\n",
        "\r\n",
        "for indice in range (12, 20, 1):\r\n",
        "  print(facultad[indice] , end= \"\")\r\n",
        "\r\n",
        "#Hacer esto mismo con la caracteristicas slicing\r\n",
        "print(\"\\n con slicing\")\r\n",
        "print(facultad[12:20:1])\r\n",
        "#La palabra \"de\" con slicing\r\n",
        "print(facultad[9:11:1])\r\n",
        "#La frase \"(la mejor) con indexado alternativo y slicing\""
      ],
      "execution_count": 41,
      "outputs": [
        {
          "output_type": "stream",
          "text": [
            "Facultad de estudios superiores Aragon (la mejor)\n",
            "estudios\n",
            " con slicing\n",
            "estudios\n",
            "de\n"
          ],
          "name": "stdout"
        }
      ]
    }
  ]
}