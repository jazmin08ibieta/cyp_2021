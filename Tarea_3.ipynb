{
  "nbformat": 4,
  "nbformat_minor": 0,
  "metadata": {
    "colab": {
      "name": "Tarea 3",
      "provenance": [],
      "authorship_tag": "ABX9TyN7Iydvk6NaY1MUz2Q5A9Sc",
      "include_colab_link": true
    },
    "kernelspec": {
      "name": "python3",
      "display_name": "Python 3"
    }
  },
  "cells": [
    {
      "cell_type": "markdown",
      "metadata": {
        "id": "view-in-github",
        "colab_type": "text"
      },
      "source": [
        "<a href=\"https://colab.research.google.com/github/jazmin08ibieta/cyp_2021/blob/main/Tarea_3.ipynb\" target=\"_parent\"><img src=\"https://colab.research.google.com/assets/colab-badge.svg\" alt=\"Open In Colab\"/></a>"
      ]
    },
    {
      "cell_type": "code",
      "metadata": {
        "colab": {
          "base_uri": "https://localhost:8080/"
        },
        "id": "mZnXNN1-pX4s",
        "outputId": "611fb3e7-6bdf-4526-d6c7-1456f1471925"
      },
      "source": [
        "#Problema 1.1\n",
        "\n",
        "PRECIO=0\n",
        "PAGO=0\n",
        "CAMBIO=0\n",
        "\n",
        "PRECIO=float(input(\"Ingrese el precio del producto:\"))\n",
        "PAGO=float(input(\"Ingrese la cantidad a pagar:\"))\n",
        "\n",
        "CAMBIO=PAGO-PRECIO\n",
        "print(\"Su cambio es\", CAMBIO)"
      ],
      "execution_count": null,
      "outputs": [
        {
          "output_type": "stream",
          "text": [
            "Ingrese el precio del producto:86.25\n",
            "Ingrese la cantidad a pagar:100\n",
            "Su cambio es 13.75\n"
          ],
          "name": "stdout"
        }
      ]
    },
    {
      "cell_type": "code",
      "metadata": {
        "colab": {
          "base_uri": "https://localhost:8080/"
        },
        "id": "eq5dvVl8rnTt",
        "outputId": "13709284-bae1-4df0-99a3-80538b867888"
      },
      "source": [
        "#Problema 1.2\n",
        "BASE=0\n",
        "ALTURA=0\n",
        "SUPERFICIE=0\n",
        "\n",
        "BASE=float(input(\"Ingrese la base del triángulo:\"))\n",
        "ALTURA=float(input(\"Ingrese la altura del triángulo:\"))\n",
        "\n",
        "SUPERFICIE=(BASE*ALTURA)/2\n",
        "print(\"Su superficie es:\",SUPERFICIE)"
      ],
      "execution_count": null,
      "outputs": [
        {
          "output_type": "stream",
          "text": [
            "Ingrese la base del triángulo:120.60\n",
            "Ingrese la altura del triángulo:85.90\n",
            "Su superficie es: 5179.77\n"
          ],
          "name": "stdout"
        }
      ]
    },
    {
      "cell_type": "code",
      "metadata": {
        "colab": {
          "base_uri": "https://localhost:8080/"
        },
        "id": "Oy76RJUZsuvi",
        "outputId": "6a59e6dc-7d63-4d63-8f85-04339514ad77"
      },
      "source": [
        "#Problema 1.3\n",
        "NOMBRE=0\n",
        "PESO=0\n",
        "LONGITUD=0\n",
        "KILOS=0\n",
        "METROS=0\n",
        "TONELADAS=0\n",
        "\n",
        "NOMBRE=input(\"Ingrese el nombre del dinosaurio:\")\n",
        "PESO=float(input(\"Ingrese el peso del dinosuario en libras:\"))\n",
        "LONGITUD=float(input(\"Ingrese la longitud del dinosaurio en pies:\"))\n",
        "\n",
        "KILOS=PESO*0.453592 #Conversion de libras a kilogramos.\n",
        "TONELADAS=PESO/1000\n",
        "METROS=LONGITUD*0.3047\n",
        "\n",
        "print(NOMBRE)\n",
        "print(\"Su peso en kilogramos es\",KILOS)\n",
        "print(\"Su peso en toneladas es\",TONELADAS)\n",
        "print(\"Su longitud en metros es\",METROS)"
      ],
      "execution_count": 3,
      "outputs": [
        {
          "output_type": "stream",
          "text": [
            "Ingrese el nombre del dinosaurio:diplojocus\n",
            "Ingrese el peso del dinosuario en libras:15\n",
            "Ingrese la longitud del dinosaurio en pies:90\n",
            "diplojocus\n",
            "Su peso en kilogramos es 6.8038799999999995\n",
            "Su peso en toneladas es 0.015\n",
            "Su longitud en metros es 27.423000000000002\n"
          ],
          "name": "stdout"
        }
      ]
    },
    {
      "cell_type": "code",
      "metadata": {
        "colab": {
          "base_uri": "https://localhost:8080/"
        },
        "id": "ryoxAupIK5XV",
        "outputId": "488fe9ce-3283-4c1c-b32e-64113e01c940"
      },
      "source": [
        "#Problema 1.4\n",
        "\n",
        "GALON=0\n",
        "PRECIO=0\n",
        "RES=0\n",
        "\n",
        "GALON=float(input(\"Ingrese la cantidad de gasolina:\"))\n",
        "\n",
        "PRECIO=GALON*3.785*8.20\n",
        "print(\"Su total es\", PRECIO)"
      ],
      "execution_count": null,
      "outputs": [
        {
          "output_type": "stream",
          "text": [
            "Ingrese la cantidad de gasolina:10.38\n",
            "Su total es 322.16406\n"
          ],
          "name": "stdout"
        }
      ]
    },
    {
      "cell_type": "code",
      "metadata": {
        "id": "8vOrUP61MzEa",
        "colab": {
          "base_uri": "https://localhost:8080/"
        },
        "outputId": "a7e81442-00fe-4c77-ed73-5ffeffb7d3a8"
      },
      "source": [
        "#Problema 1.5\n",
        "\n",
        "RADIO=0\n",
        "ALTURA=0\n",
        "AREA=0\n",
        "VOLUMEN=0\n",
        "\n",
        "RADIO=float(input(\"Ingrese el radio del circulo:\"))\n",
        "ALTURA=float(input(\"Ingrese la altura del circulo:\"))\n",
        "\n",
        "AREA=2*3.1416*RADIO*ALTURA\n",
        "VOLUMEN=3.1416*RADIO**2*ALTURA\n",
        "print(\"El area es\",AREA)\n",
        "print(\"Su volumen es\",VOLUMEN)"
      ],
      "execution_count": 4,
      "outputs": [
        {
          "output_type": "stream",
          "text": [
            "Ingrese el radio del circulo:17.30\n",
            "Ingrese la altura del circulo:8.45\n",
            "El area es 918.5072530399999\n",
            "Su volumen es 7945.087738796\n"
          ],
          "name": "stdout"
        }
      ]
    },
    {
      "cell_type": "code",
      "metadata": {
        "colab": {
          "base_uri": "https://localhost:8080/"
        },
        "id": "gwnjNSdYDzlC",
        "outputId": "cb395c00-823e-4c0d-d0de-d3e4011eee49"
      },
      "source": [
        "#Problema 1.6\n",
        "\n",
        "DIAS=0\n",
        "TOTAL=0\n",
        "\n",
        "DIAS=int(input(\"Ingrese los dias:\"))\n",
        "TOTAL=DIAS*24*60*60\n",
        "\n",
        "print(\"EL total de segundos es:\",TOTAL)"
      ],
      "execution_count": 6,
      "outputs": [
        {
          "output_type": "stream",
          "text": [
            "Ingrese los dias:116\n",
            "EL total de segundos es: 10022400\n"
          ],
          "name": "stdout"
        }
      ]
    }
  ]
}