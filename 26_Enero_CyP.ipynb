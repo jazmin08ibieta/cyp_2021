{
  "nbformat": 4,
  "nbformat_minor": 0,
  "metadata": {
    "colab": {
      "name": "26_Enero_CyP.ipynb",
      "provenance": [],
      "authorship_tag": "ABX9TyPkQV1J7W5hQ/imxCcIy9N2",
      "include_colab_link": true
    },
    "kernelspec": {
      "name": "python3",
      "display_name": "Python 3"
    }
  },
  "cells": [
    {
      "cell_type": "markdown",
      "metadata": {
        "id": "view-in-github",
        "colab_type": "text"
      },
      "source": [
        "<a href=\"https://colab.research.google.com/github/jazmin08ibieta/cyp_2021/blob/main/26_Enero_CyP.ipynb\" target=\"_parent\"><img src=\"https://colab.research.google.com/assets/colab-badge.svg\" alt=\"Open In Colab\"/></a>"
      ]
    },
    {
      "cell_type": "markdown",
      "metadata": {
        "id": "pwBAp6QStFYs"
      },
      "source": [
        "#Listas de lenguage Python 3.\r\n",
        "\r\n",
        "1. Es una estructura de datos lineal de 0 o n elementos.\r\n",
        "1. \"Equivalentes\" a los arreglos.\r\n",
        "1. Pueden ser de diferente tipo de dato. [1,2,3,4,12], [1, True, 2.34, \"Hola\"]\r\n",
        "1. Pueden ser anidados, listas de listas. [\"Melon\", [\"Manzana roja\", \"Manzana amarilla\"]]\r\n",
        "1. Su selector es de la forma: [int]\r\n",
        "1. Son mutables.\r\n",
        "\r\n",
        "\r\n"
      ]
    },
    {
      "cell_type": "code",
      "metadata": {
        "colab": {
          "base_uri": "https://localhost:8080/"
        },
        "id": "9_xu_DXGu8Wa",
        "outputId": "11b7653f-9499-4098-ea96-e6a9915b42c3"
      },
      "source": [
        "#Ejemplos.\r\n",
        "numeros= [4,2,3,6,7]\r\n",
        "print(numeros)\r\n",
        "print(numeros[2])\r\n",
        "\r\n",
        "#Una lista de 0 elementos\r\n",
        "colores=[] # list ( )\r\n",
        "type(colores) #Averiguar de que tipo de dato es una variable con la funcion\r\n",
        "dias= list()\r\n",
        "print(colores)\r\n",
        "print(dias)"
      ],
      "execution_count": 4,
      "outputs": [
        {
          "output_type": "stream",
          "text": [
            "[4, 2, 3, 6, 7]\n",
            "3\n",
            "[]\n",
            "[]\n"
          ],
          "name": "stdout"
        }
      ]
    },
    {
      "cell_type": "code",
      "metadata": {
        "colab": {
          "base_uri": "https://localhost:8080/"
        },
        "id": "kP1YWroywICQ",
        "outputId": "a2d099b8-362e-4557-fe2b-c8cdeb722af8"
      },
      "source": [
        "#Puede ser de diferente tipo de datos\r\n",
        "mi_lista=[1,2,3, \"jose\", False,1.76, [5584003730, 5535953653]]\r\n",
        "print(mi_lista)\r\n",
        "print(mi_lista[6][1])\r\n",
        "print(mi_lista[3][3])\r\n",
        "print(mi_lista[3][3::])\r\n",
        "print(mi_lista[3][-1::1])\r\n",
        "\r\n",
        "mi_lista=[1,2,3, \"jose\", False,1.76, [\"5584003730\", \"5535953653\"]]\r\n",
        "print(str(mi_lista[6][1][2]))"
      ],
      "execution_count": 18,
      "outputs": [
        {
          "output_type": "stream",
          "text": [
            "[1, 2, 3, 'jose', False, 1.76, [5584003730, 5535953653]]\n",
            "5535953653\n",
            "e\n",
            "e\n",
            "e\n",
            "3\n"
          ],
          "name": "stdout"
        }
      ]
    },
    {
      "cell_type": "code",
      "metadata": {
        "colab": {
          "base_uri": "https://localhost:8080/"
        },
        "id": "h-6yXsx_0Rx6",
        "outputId": "1ed58526-3b63-4a40-c44b-f742a4703b61"
      },
      "source": [
        "frutas=[\"melon\",\"sandia\",\"kiwi\",\"aguacate\",\"mago\",\"platano\"]\r\n",
        "print(frutas)\r\n",
        "frutas[0]=\"Melon\"\r\n",
        "print(frutas)\r\n",
        "#frutas[1][0]=\"S\"\r\n",
        "frutas[1]=frutas[1].capitalize()\r\n",
        "print(frutas)"
      ],
      "execution_count": 25,
      "outputs": [
        {
          "output_type": "stream",
          "text": [
            "['melon', 'sandia', 'kiwi', 'aguacate', 'mago', 'platano']\n",
            "['Melon', 'sandia', 'kiwi', 'aguacate', 'mago', 'platano']\n",
            "['Melon', 'Sandia', 'kiwi', 'aguacate', 'mago', 'platano']\n"
          ],
          "name": "stdout"
        }
      ]
    },
    {
      "cell_type": "code",
      "metadata": {
        "colab": {
          "base_uri": "https://localhost:8080/"
        },
        "id": "Dw6wo_NZ2Cmi",
        "outputId": "a485d74f-47dd-4b86-b2a5-5d55cd44dc55"
      },
      "source": [
        "#Las listas son clases por lo tanto tienen metodos \r\n",
        "#Ejemplo append agrega un elemento al final\r\n",
        "frutas.append(\"Fresa\")\r\n",
        "print(frutas)\r\n",
        "\r\n",
        "frutas.clear()\r\n",
        "print(frutas)\r\n",
        "\r\n",
        "frutas=[\"melon\",\"sandia\",\"kiwi\",\"aguacate\",\"mago\",\"platano\"]\r\n",
        "print(\"Ejemplo de copias\")\r\n",
        "otras_frutas=frutas.copy()\r\n",
        "print(frutas)\r\n",
        "print(otras_frutas)\r\n",
        "otras_frutas[0]=\"chico zapote\"\r\n",
        "print(otras_frutas)\r\n",
        "print(frutas)\r\n",
        "\r\n",
        "print(\"Ejemplo de extend\")\r\n",
        "colores=[\"rojo\", \"verde\", \"azul\"]\r\n",
        "frutas.extend(colores)\r\n",
        "print(frutas)\r\n",
        "\r\n",
        "print(\"Ejemplo insert\")\r\n",
        "print(f\"Tamaño de la lista ={len(frutas)}\")\r\n",
        "frutas.insert(3,\"Limon\") #Se indica la posision antes de lo que se desea ingresar\r\n",
        "print(f\"Tamaño de la lista = {len(frutas)}\")\r\n",
        "print(frutas)\r\n",
        "\r\n",
        "print(\"Ejemplo remove\")\r\n",
        "frutas.remove(\"kiwi\") #Eliminar kiwi\r\n",
        "print(frutas)\r\n",
        "\r\n",
        "print(\"ejemplo del\")\r\n",
        "del frutas[2] #Operador de listas, elimina limon\r\n",
        "print(frutas)"
      ],
      "execution_count": 45,
      "outputs": [
        {
          "output_type": "stream",
          "text": [
            "['melon', 'sandia', 'aguacate', 'mago', 'platano', 'rojo', 'verde', 'azul', 'Fresa']\n",
            "[]\n",
            "Ejemplo de copias\n",
            "['melon', 'sandia', 'kiwi', 'aguacate', 'mago', 'platano']\n",
            "['melon', 'sandia', 'kiwi', 'aguacate', 'mago', 'platano']\n",
            "['chico zapote', 'sandia', 'kiwi', 'aguacate', 'mago', 'platano']\n",
            "['melon', 'sandia', 'kiwi', 'aguacate', 'mago', 'platano']\n",
            "Ejemplo de extend\n",
            "['melon', 'sandia', 'kiwi', 'aguacate', 'mago', 'platano', 'rojo', 'verde', 'azul']\n",
            "Ejemplo insert\n",
            "Tamaño de la lista =9\n",
            "Tamaño de la lista = 10\n",
            "['melon', 'sandia', 'kiwi', 'Limon', 'aguacate', 'mago', 'platano', 'rojo', 'verde', 'azul']\n",
            "Ejemplo remove\n",
            "['melon', 'sandia', 'Limon', 'aguacate', 'mago', 'platano', 'rojo', 'verde', 'azul']\n",
            "ejemplo del\n",
            "['melon', 'sandia', 'aguacate', 'mago', 'platano', 'rojo', 'verde', 'azul']\n"
          ],
          "name": "stdout"
        }
      ]
    },
    {
      "cell_type": "code",
      "metadata": {
        "colab": {
          "base_uri": "https://localhost:8080/"
        },
        "id": "p5oz1JcT-4cC",
        "outputId": "dd0c988f-97ec-4ee0-dfc6-31c6302cd87d"
      },
      "source": [
        "cosas = [\"jose\",True,2,3,4,5,\"pedro\",1.23]\r\n",
        "indice = 0\r\n",
        "a_eliminar=[]\r\n",
        "for elemento in cosas:\r\n",
        "    if isinstance( elemento , int ) :\r\n",
        "        print(\"entero\",elemento) # cosas.remove(elemento)\r\n",
        "        a_eliminar.append(elemento)\r\n",
        "    indice += 1\r\n",
        "\r\n",
        "print(a_eliminar)\r\n",
        "for indice in a_eliminar:\r\n",
        "    print( indice)\r\n",
        "    cosas.remove(indice)\r\n",
        "print(cosas)\r\n"
      ],
      "execution_count": 53,
      "outputs": [
        {
          "output_type": "stream",
          "text": [
            "entero True\n",
            "entero 2\n",
            "entero 3\n",
            "entero 4\n",
            "entero 5\n",
            "[True, 2, 3, 4, 5]\n",
            "True\n",
            "2\n",
            "3\n",
            "4\n",
            "5\n",
            "['jose', 'pedro', 1.23]\n"
          ],
          "name": "stdout"
        }
      ]
    },
    {
      "cell_type": "code",
      "metadata": {
        "colab": {
          "base_uri": "https://localhost:8080/"
        },
        "id": "Y35Nxx6I2Vn8",
        "outputId": "75329feb-6ff0-419f-fac0-e39600103952"
      },
      "source": [
        "help(frutas)"
      ],
      "execution_count": 29,
      "outputs": [
        {
          "output_type": "stream",
          "text": [
            "Help on list object:\n",
            "\n",
            "class list(object)\n",
            " |  list() -> new empty list\n",
            " |  list(iterable) -> new list initialized from iterable's items\n",
            " |  \n",
            " |  Methods defined here:\n",
            " |  \n",
            " |  __add__(self, value, /)\n",
            " |      Return self+value.\n",
            " |  \n",
            " |  __contains__(self, key, /)\n",
            " |      Return key in self.\n",
            " |  \n",
            " |  __delitem__(self, key, /)\n",
            " |      Delete self[key].\n",
            " |  \n",
            " |  __eq__(self, value, /)\n",
            " |      Return self==value.\n",
            " |  \n",
            " |  __ge__(self, value, /)\n",
            " |      Return self>=value.\n",
            " |  \n",
            " |  __getattribute__(self, name, /)\n",
            " |      Return getattr(self, name).\n",
            " |  \n",
            " |  __getitem__(...)\n",
            " |      x.__getitem__(y) <==> x[y]\n",
            " |  \n",
            " |  __gt__(self, value, /)\n",
            " |      Return self>value.\n",
            " |  \n",
            " |  __iadd__(self, value, /)\n",
            " |      Implement self+=value.\n",
            " |  \n",
            " |  __imul__(self, value, /)\n",
            " |      Implement self*=value.\n",
            " |  \n",
            " |  __init__(self, /, *args, **kwargs)\n",
            " |      Initialize self.  See help(type(self)) for accurate signature.\n",
            " |  \n",
            " |  __iter__(self, /)\n",
            " |      Implement iter(self).\n",
            " |  \n",
            " |  __le__(self, value, /)\n",
            " |      Return self<=value.\n",
            " |  \n",
            " |  __len__(self, /)\n",
            " |      Return len(self).\n",
            " |  \n",
            " |  __lt__(self, value, /)\n",
            " |      Return self<value.\n",
            " |  \n",
            " |  __mul__(self, value, /)\n",
            " |      Return self*value.\n",
            " |  \n",
            " |  __ne__(self, value, /)\n",
            " |      Return self!=value.\n",
            " |  \n",
            " |  __new__(*args, **kwargs) from builtins.type\n",
            " |      Create and return a new object.  See help(type) for accurate signature.\n",
            " |  \n",
            " |  __repr__(self, /)\n",
            " |      Return repr(self).\n",
            " |  \n",
            " |  __reversed__(...)\n",
            " |      L.__reversed__() -- return a reverse iterator over the list\n",
            " |  \n",
            " |  __rmul__(self, value, /)\n",
            " |      Return value*self.\n",
            " |  \n",
            " |  __setitem__(self, key, value, /)\n",
            " |      Set self[key] to value.\n",
            " |  \n",
            " |  __sizeof__(...)\n",
            " |      L.__sizeof__() -- size of L in memory, in bytes\n",
            " |  \n",
            " |  append(...)\n",
            " |      L.append(object) -> None -- append object to end\n",
            " |  \n",
            " |  clear(...)\n",
            " |      L.clear() -> None -- remove all items from L\n",
            " |  \n",
            " |  copy(...)\n",
            " |      L.copy() -> list -- a shallow copy of L\n",
            " |  \n",
            " |  count(...)\n",
            " |      L.count(value) -> integer -- return number of occurrences of value\n",
            " |  \n",
            " |  extend(...)\n",
            " |      L.extend(iterable) -> None -- extend list by appending elements from the iterable\n",
            " |  \n",
            " |  index(...)\n",
            " |      L.index(value, [start, [stop]]) -> integer -- return first index of value.\n",
            " |      Raises ValueError if the value is not present.\n",
            " |  \n",
            " |  insert(...)\n",
            " |      L.insert(index, object) -- insert object before index\n",
            " |  \n",
            " |  pop(...)\n",
            " |      L.pop([index]) -> item -- remove and return item at index (default last).\n",
            " |      Raises IndexError if list is empty or index is out of range.\n",
            " |  \n",
            " |  remove(...)\n",
            " |      L.remove(value) -> None -- remove first occurrence of value.\n",
            " |      Raises ValueError if the value is not present.\n",
            " |  \n",
            " |  reverse(...)\n",
            " |      L.reverse() -- reverse *IN PLACE*\n",
            " |  \n",
            " |  sort(...)\n",
            " |      L.sort(key=None, reverse=False) -> None -- stable sort *IN PLACE*\n",
            " |  \n",
            " |  ----------------------------------------------------------------------\n",
            " |  Data and other attributes defined here:\n",
            " |  \n",
            " |  __hash__ = None\n",
            "\n"
          ],
          "name": "stdout"
        }
      ]
    },
    {
      "cell_type": "code",
      "metadata": {
        "colab": {
          "base_uri": "https://localhost:8080/"
        },
        "id": "glmGcdLtFIHi",
        "outputId": "b39b9ea4-333f-4643-861e-d3aca6560191"
      },
      "source": [
        "#Slicing sobre listas\r\n",
        "frutas=[\"melon\",\"sandia\",\"kiwi\",\"aguacate\",\"mago\",\"platano\"]\r\n",
        "print(frutas[1:4:])\r\n",
        "\r\n",
        "sistemas_operativos=[\"windows\", \"mac os\", \"linux\", \"androis\"]\r\n",
        "autos=[\"ford\",\"mazda\",\"honda\"]\r\n",
        "cosas=[sistemas_operativos,autos]\r\n",
        "print(cosas)\r\n",
        "print(cosas[1])\r\n",
        "print(cosas[0][2])\r\n",
        "print(cosas[0][3][2:5:1])\r\n",
        "print(cosas[1][1][-2:-5:-1])"
      ],
      "execution_count": 70,
      "outputs": [
        {
          "output_type": "stream",
          "text": [
            "['sandia', 'kiwi', 'aguacate']\n",
            "[['windows', 'mac os', 'linux', 'androis'], ['ford', 'mazda', 'honda']]\n",
            "['ford', 'mazda', 'honda']\n",
            "linux\n",
            "dro\n",
            "zda\n"
          ],
          "name": "stdout"
        }
      ]
    }
  ]
}