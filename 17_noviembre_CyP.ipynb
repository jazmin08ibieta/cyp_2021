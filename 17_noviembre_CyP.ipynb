{
  "nbformat": 4,
  "nbformat_minor": 0,
  "metadata": {
    "colab": {
      "name": "17/noviembre CyP",
      "provenance": [],
      "authorship_tag": "ABX9TyN/7oeunerO76er593kReKp",
      "include_colab_link": true
    },
    "kernelspec": {
      "name": "python3",
      "display_name": "Python 3"
    }
  },
  "cells": [
    {
      "cell_type": "markdown",
      "metadata": {
        "id": "view-in-github",
        "colab_type": "text"
      },
      "source": [
        "<a href=\"https://colab.research.google.com/github/jazmin08ibieta/cyp_2021/blob/main/17_noviembre_CyP.ipynb\" target=\"_parent\"><img src=\"https://colab.research.google.com/assets/colab-badge.svg\" alt=\"Open In Colab\"/></a>"
      ]
    },
    {
      "cell_type": "code",
      "metadata": {
        "colab": {
          "base_uri": "https://localhost:8080/"
        },
        "id": "49dBPNEBR94b",
        "outputId": "f6de0117-7118-4cbb-d961-cf4e4656fb20"
      },
      "source": [
        "edad=15\n",
        "estatura=1.67\n",
        "a=10\n",
        "b=3\n",
        "\n",
        "c=2**b+2+3+4\n",
        "\n",
        "print(c)\n",
        "\n",
        "e=estatura*2.0\n",
        "print(e)\n",
        "\n",
        "f=a/b # en python se hace el cálculo exacto\n",
        "print(f) # Tambien podemos forzar el calculo de enteros\n",
        "\n",
        "g=a//b # doble diagonal resultado en enteros\n",
        "print(\"g=\",g)\n",
        "\n",
        "h=a%b\n",
        "print(\"h=\",h) #Modulo\n",
        "\n",
        "num=11\n",
        "print(\"Es par num?\", (num%2)==0)\n"
      ],
      "execution_count": 10,
      "outputs": [
        {
          "output_type": "stream",
          "text": [
            "17\n",
            "3.34\n",
            "3.3333333333333335\n",
            "g= 3\n",
            "h= 1\n",
            "Es par num? False\n"
          ],
          "name": "stdout"
        }
      ]
    },
    {
      "cell_type": "code",
      "metadata": {
        "colab": {
          "base_uri": "https://localhost:8080/"
        },
        "id": "-ryM8mSxW2mX",
        "outputId": "71383b2f-a193-438c-8dba-832942231f0a"
      },
      "source": [
        "ecuacion=9+7*8-36/5 # 9+56-7.7  65-7.2=57.8\n",
        "print(ecuacion)"
      ],
      "execution_count": 11,
      "outputs": [
        {
          "output_type": "stream",
          "text": [
            "57.8\n"
          ],
          "name": "stdout"
        }
      ]
    },
    {
      "cell_type": "code",
      "metadata": {
        "colab": {
          "base_uri": "https://localhost:8080/"
        },
        "id": "Ucr-tWjDZn1r",
        "outputId": "7144432c-a31a-40c2-ee48-c930c25b2690"
      },
      "source": [
        "ecuacion=(9+7)*8-36/5 # 128-7.2\n",
        "print(ecuacion)"
      ],
      "execution_count": 12,
      "outputs": [
        {
          "output_type": "stream",
          "text": [
            "120.8\n"
          ],
          "name": "stdout"
        }
      ]
    },
    {
      "cell_type": "code",
      "metadata": {
        "colab": {
          "base_uri": "https://localhost:8080/"
        },
        "id": "HlnXvmN6auKa",
        "outputId": "73b18762-b163-4277-b2e7-7631fe24a403"
      },
      "source": [
        "ecuacion=9+7*(8-36)/5\n",
        "print(ecuacion)"
      ],
      "execution_count": 13,
      "outputs": [
        {
          "output_type": "stream",
          "text": [
            "-30.200000000000003\n"
          ],
          "name": "stdout"
        }
      ]
    },
    {
      "cell_type": "code",
      "metadata": {
        "colab": {
          "base_uri": "https://localhost:8080/"
        },
        "id": "chlSm3JPb144",
        "outputId": "bc039c25-1b0b-44bd-f8dc-edf752bd7b32"
      },
      "source": [
        "#Operadores logicos  True y False\n",
        "\n",
        "x=5\n",
        "y=4\n",
        "\n",
        "valor=(x==y) #False\n",
        "print(valor)\n",
        "\n",
        "valor=(x!=y) #Son diferentes?   True\n",
        "print(valor)\n",
        "\n",
        "valor=(x<y) #menor que\n",
        "print(valor)\n",
        "\n",
        "valor=(x>y) #Mayor que\n",
        "print(valor)\n",
        "\n",
        "valor=(x>=y) #Mayor o igual que\n",
        "print(valor)\n",
        "\n",
        "valor=(x<=y) #Menor o igual que   \n",
        "print(valor)"
      ],
      "execution_count": 17,
      "outputs": [
        {
          "output_type": "stream",
          "text": [
            "False\n",
            "True\n",
            "False\n"
          ],
          "name": "stdout"
        }
      ]
    },
    {
      "cell_type": "code",
      "metadata": {
        "colab": {
          "base_uri": "https://localhost:8080/"
        },
        "id": "dv8WaAq6faTc",
        "outputId": "a24d64f2-fcf8-4edc-da05-0d6778f48d0a"
      },
      "source": [
        "costo_chetos=7.0\n",
        "tienda_abierta=True\n",
        "capital_en_bolsa=10.0\n",
        "\n",
        "se_compra=(costo_chetos < capital_en_bolsa) and (tienda_abierta==True)\n",
        "print(se_compra)"
      ],
      "execution_count": 20,
      "outputs": [
        {
          "output_type": "stream",
          "text": [
            "True\n"
          ],
          "name": "stdout"
        }
      ]
    }
  ]
}