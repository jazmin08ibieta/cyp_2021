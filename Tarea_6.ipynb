{
  "nbformat": 4,
  "nbformat_minor": 0,
  "metadata": {
    "colab": {
      "name": "Tarea 6",
      "provenance": [],
      "authorship_tag": "ABX9TyNcX3Tv/wEbi/A2A6bOmqMr",
      "include_colab_link": true
    },
    "kernelspec": {
      "name": "python3",
      "display_name": "Python 3"
    }
  },
  "cells": [
    {
      "cell_type": "markdown",
      "metadata": {
        "id": "view-in-github",
        "colab_type": "text"
      },
      "source": [
        "<a href=\"https://colab.research.google.com/github/jazmin08ibieta/cyp_2021/blob/main/Tarea_6.ipynb\" target=\"_parent\"><img src=\"https://colab.research.google.com/assets/colab-badge.svg\" alt=\"Open In Colab\"/></a>"
      ]
    },
    {
      "cell_type": "code",
      "metadata": {
        "id": "SNm5UNAC_aRr",
        "colab": {
          "base_uri": "https://localhost:8080/"
        },
        "outputId": "f530e6d7-5789-4011-ffed-3995189da238"
      },
      "source": [
        "#Ejemplo 3.3 \r\n",
        "\r\n",
        "serie=0\r\n",
        "N=int(input(\"Ingrese un numero: \"))\r\n",
        "band=True\r\n",
        "i=1\r\n",
        "while i<=N:\r\n",
        "  if band == True:\r\n",
        "    serie=serie+1/i\r\n",
        "    band=False\r\n",
        "  else:\r\n",
        "    serie=serie-1/i\r\n",
        "    band=True\r\n",
        "  i=i+1\r\n",
        "  print(\"La serie es: \",serie)"
      ],
      "execution_count": null,
      "outputs": [
        {
          "output_type": "stream",
          "text": [
            "Ingrese un numero: 9\n",
            "La serie es:  1.0\n",
            "La serie es:  0.5\n",
            "La serie es:  0.8333333333333333\n",
            "La serie es:  0.5833333333333333\n",
            "La serie es:  0.7833333333333332\n",
            "La serie es:  0.6166666666666666\n",
            "La serie es:  0.7595238095238095\n",
            "La serie es:  0.6345238095238095\n",
            "La serie es:  0.7456349206349207\n"
          ],
          "name": "stdout"
        }
      ]
    },
    {
      "cell_type": "code",
      "metadata": {
        "colab": {
          "base_uri": "https://localhost:8080/"
        },
        "id": "3WdHQTB5AKxm",
        "outputId": "5b3385cf-f378-423a-924c-118d9df5db39"
      },
      "source": [
        "#Ejemplo 3.4\r\n",
        "\r\n",
        "Nsue=0\r\n",
        "nom=0\r\n",
        "sue=0\r\n",
        "\r\n",
        "sue=float(input(\"Ingrese el salario: \"))\r\n",
        "while sue>1:\r\n",
        "  if sue<1000:\r\n",
        "   Nsue=sue*0.15\r\n",
        "   tot= Nsue+sue\r\n",
        "  else:\r\n",
        "    Nsue=sue*0.12\r\n",
        "    tot= Nsue+sue\r\n",
        "  nom=nom+tot\r\n",
        "  print(\"El sueldo con aumento es: $\", tot)\r\n",
        "  sue=float(input(\"Ingrese el salario: \"))\r\n",
        "\r\n",
        "print(\"La nomina es: $\", nom)\r\n",
        "  "
      ],
      "execution_count": null,
      "outputs": [
        {
          "output_type": "stream",
          "text": [
            "Ingrese el salario: 855\n",
            "El sueldo con aumento es: $ 983.25\n",
            "Ingrese el salario: 760.32\n",
            "El sueldo con aumento es: $ 874.368\n",
            "Ingrese el salario: 1100.20\n",
            "El sueldo con aumento es: $ 1232.2240000000002\n",
            "Ingrese el salario: 614\n",
            "El sueldo con aumento es: $ 706.1\n",
            "Ingrese el salario: 2600\n",
            "El sueldo con aumento es: $ 2912.0\n",
            "Ingrese el salario: 817.50\n",
            "El sueldo con aumento es: $ 940.125\n",
            "Ingrese el salario: 1280.30\n",
            "El sueldo con aumento es: $ 1433.936\n",
            "Ingrese el salario: 687\n",
            "El sueldo con aumento es: $ 790.05\n",
            "Ingrese el salario: 0\n",
            "La nomina es: $ 9872.053\n"
          ],
          "name": "stdout"
        }
      ]
    },
    {
      "cell_type": "code",
      "metadata": {
        "id": "Ci58UUIaa47p",
        "colab": {
          "base_uri": "https://localhost:8080/"
        },
        "outputId": "2d77181b-f841-42cb-fef1-53d987822f43"
      },
      "source": [
        "#Ejemplo 3.5\r\n",
        "\r\n",
        "Cuepos=0\r\n",
        "Sumotr=0\r\n",
        "progen=0\r\n",
        "propos=0\r\n",
        "Sumpos=0\r\n",
        "N=0\r\n",
        "Num=0\r\n",
        "i=1\r\n",
        "\r\n",
        "N=float(input(\"¿Cuántos numeros deseas ingresar? \"))\r\n",
        "while i<=N:\r\n",
        " Num=float(input(\"Ingrese los numeros: \"))\r\n",
        " if Num>0:\r\n",
        "  Sumpos = Sumpos + Num\r\n",
        "  Cuepos=Cuepos+1\r\n",
        " else:\r\n",
        "  Sumotr=Sumotr+Num\r\n",
        " i=i+1\r\n",
        "progen=(Sumpos+Sumotr)/N\r\n",
        "propos=(Sumpos/Cuepos)\r\n",
        "print(\"Los numeros positivos son: \", Cuepos)\r\n",
        "print(\"El promedio de los numeros positivos es: \", propos)\r\n",
        "print(\"El promedio general de los numeros es: \", progen)\r\n"
      ],
      "execution_count": null,
      "outputs": [
        {
          "output_type": "stream",
          "text": [
            "¿Cuántos numeros deseas ingresar? 20\n",
            "Ingrese los numeros: 7\n",
            "Ingrese los numeros: 12\n",
            "Ingrese los numeros: 0\n",
            "Ingrese los numeros: 6\n",
            "Ingrese los numeros: 11\n",
            "Ingrese los numeros: -3\n",
            "Ingrese los numeros: 17\n",
            "Ingrese los numeros: 12\n",
            "Ingrese los numeros: 19\n",
            "Ingrese los numeros: 0\n",
            "Ingrese los numeros: 11\n",
            "Ingrese los numeros: 4\n",
            "Ingrese los numeros: -5\n",
            "Ingrese los numeros: -1\n",
            "Ingrese los numeros: 0\n",
            "Ingrese los numeros: 3\n",
            "Ingrese los numeros: 24\n",
            "Ingrese los numeros: 0\n",
            "Ingrese los numeros: 3\n",
            "Ingrese los numeros: -16\n",
            "Los numeros positivos son:  12\n",
            "El promedio de los numeros positivos es:  10.75\n",
            "El promedio general de los numeros es:  5.2\n"
          ],
          "name": "stdout"
        }
      ]
    },
    {
      "cell_type": "code",
      "metadata": {
        "colab": {
          "base_uri": "https://localhost:8080/"
        },
        "id": "CdNCuS9dq0R2",
        "outputId": "38affe41-cb1a-4b80-88f6-2cf76e29265d"
      },
      "source": [
        "#Ejemplo 3.6\r\n",
        "\r\n",
        "may=-100000\r\n",
        "men= 100000\r\n",
        "N=0\r\n",
        "i=1\r\n",
        "Num=0\r\n",
        "\r\n",
        "N=float(input(\"¿Cuántos numeros deseas ingresar? \"))\r\n",
        "if N<0:\r\n",
        "   print(\"No se aceptan cantidades negativas\")\r\n",
        "else:\r\n",
        "  while i<=N:\r\n",
        "    Num=float(input(\"Ingresa el número: \"))\r\n",
        "    if Num > may:\r\n",
        "      may=Num\r\n",
        "    if Num<men:\r\n",
        "      men=Num\r\n",
        "    i=i+1\r\n",
        "print(\"El numero mayor es: \", may )\r\n",
        "print(\"El numero menor es: \", men)\r\n"
      ],
      "execution_count": null,
      "outputs": [
        {
          "output_type": "stream",
          "text": [
            "¿Cuántos numeros deseas ingresar? 12\n",
            "Ingresa el número: 170\n",
            "Ingresa el número: 44\n",
            "Ingresa el número: 815\n",
            "Ingresa el número: 1700\n",
            "Ingresa el número: 38\n",
            "Ingresa el número: 140\n",
            "Ingresa el número: 380\n",
            "Ingresa el número: 1020\n",
            "Ingresa el número: 116\n",
            "Ingresa el número: 14\n",
            "Ingresa el número: 730\n",
            "Ingresa el número: 960\n",
            "El numero mayor es:  1700.0\n",
            "El numero menor es:  14.0\n"
          ],
          "name": "stdout"
        }
      ]
    },
    {
      "cell_type": "code",
      "metadata": {
        "colab": {
          "base_uri": "https://localhost:8080/"
        },
        "id": "Eyc_U5VRZ_Lg",
        "outputId": "9a85548c-4f16-4ce0-fe9a-8a038c47cc6c"
      },
      "source": [
        "#Ejemplo 3.7\r\n",
        "chi=0\r\n",
        "med=0\r\n",
        "gran=0\r\n",
        "\r\n",
        "N=float(input(\"Ingrese cuantas ventas tuvo: \"))\r\n",
        "i=1\r\n",
        "while i<=N:\r\n",
        "  vent=float(input(\"Ingrese el monto: \"))\r\n",
        "  if vent<=200:\r\n",
        "    chi=chi+1\r\n",
        "  else:\r\n",
        "    if vent<400:\r\n",
        "      med=med+1\r\n",
        "    else:\r\n",
        "      gran=gran+1\r\n",
        "  i=i+1\r\n",
        "print(\"Ventas menores: \",chi)\r\n",
        "print(\"Ventas medianas: \",med)\r\n",
        "print(\"Ventas mayores: \",gran)"
      ],
      "execution_count": null,
      "outputs": [
        {
          "output_type": "stream",
          "text": [
            "Ingrese cuantas ventas tuvo: 12\n",
            "Ingrese el monto: 180.25\n",
            "Ingrese el monto: 470.30\n",
            "Ingrese el monto: 150.25\n",
            "Ingrese el monto: 88.60\n",
            "Ingrese el monto: 230.15\n",
            "Ingrese el monto: 170.20\n",
            "Ingrese el monto: 40.30\n",
            "Ingrese el monto: 201.90\n",
            "Ingrese el monto: 60.32\n",
            "Ingrese el monto: 280.30\n",
            "Ingrese el monto: 15.70\n",
            "Ingrese el monto: 140.20\n",
            "Ventas menores:  8\n",
            "Ventas medianas:  3\n",
            "Ventas mayores:  1\n"
          ],
          "name": "stdout"
        }
      ]
    },
    {
      "cell_type": "code",
      "metadata": {
        "colab": {
          "base_uri": "https://localhost:8080/"
        },
        "id": "a68TfwQqhneX",
        "outputId": "b6223957-e030-49d1-eb7a-5847e35c699d"
      },
      "source": [
        "#Ejemplo 3.8\r\n",
        "Num=0\r\n",
        "\r\n",
        "Num=int(input(\"Ingrese un número entero positivo: \"))\r\n",
        "\r\n",
        "if Num>0:\r\n",
        "  while Num!=1:\r\n",
        "    if Num/2:\r\n",
        "      Num=Num/2\r\n",
        "    else:\r\n",
        "      Num=Num*3+1\r\n",
        "  print(\"El numero es: \", Num)\r\n",
        "else:\r\n",
        "  print(\"Error no es número entero positivo\")"
      ],
      "execution_count": null,
      "outputs": [
        {
          "output_type": "stream",
          "text": [
            "Ingrese un número entero positivo: 5\n",
            "El numero es:  1.0\n"
          ],
          "name": "stdout"
        }
      ]
    },
    {
      "cell_type": "code",
      "metadata": {
        "colab": {
          "base_uri": "https://localhost:8080/"
        },
        "id": "1QHhhHADmM65",
        "outputId": "8e31bc97-e15c-4de0-ba78-67b14eca55a1"
      },
      "source": [
        "#Ejemplo 3.9\r\n",
        "\r\n",
        "serie=0\r\n",
        "i=1\r\n",
        "N=int(input(\"Ingrese un numero \"))\r\n",
        "while i<=N:\r\n",
        "  serie=serie+i**i\r\n",
        "  i=i+1\r\n",
        "print(\"La serie es\", serie)"
      ],
      "execution_count": null,
      "outputs": [
        {
          "output_type": "stream",
          "text": [
            "Ingrese un numero 8\n",
            "La serie es 17650828\n"
          ],
          "name": "stdout"
        }
      ]
    },
    {
      "cell_type": "code",
      "metadata": {
        "colab": {
          "base_uri": "https://localhost:8080/"
        },
        "id": "yMc3scc0r4RH",
        "outputId": "dde53705-353c-4439-f208-ca8bf72ac289"
      },
      "source": [
        "#Ejemplo 3.10\r\n",
        "\r\n",
        "pri=0\r\n",
        "seg=1\r\n",
        "i=3\r\n",
        "while i<=180:\r\n",
        "  sig=pri+seg\r\n",
        "  pri=seg\r\n",
        "  seg=sig\r\n",
        "  i=i+1\r\n",
        "print(sig)"
      ],
      "execution_count": null,
      "outputs": [
        {
          "output_type": "stream",
          "text": [
            "11463113765491467695340528626429782121\n"
          ],
          "name": "stdout"
        }
      ]
    },
    {
      "cell_type": "code",
      "metadata": {
        "colab": {
          "base_uri": "https://localhost:8080/"
        },
        "id": "OnrIhFRqx5bR",
        "outputId": "4131cea2-4553-4b92-a654-e9aa25783c2d"
      },
      "source": [
        "#Ejemplo 3.11\r\n",
        "\r\n",
        "can1=0\r\n",
        "can2=0\r\n",
        "can3=0\r\n",
        "can4=0\r\n",
        "\r\n",
        "voto=int(input(\"Ingrese los numeros de votos: \"))\r\n",
        "\r\n",
        "if voto<0:\r\n",
        "  print(\"Error, no se aceptan cantidades negativas\")\r\n",
        "else:\r\n",
        " while voto!=0:\r\n",
        "  if voto==1:\r\n",
        "    can1=can1+1\r\n",
        "  elif voto==2:\r\n",
        "    can2=can2+1\r\n",
        "  elif voto==3:\r\n",
        "    can3=can3+1\r\n",
        "  elif voto==4:\r\n",
        "    can4=can4+1\r\n",
        "  voto=int(input(\"Ingrese los numeros de votos: \"))\r\n",
        "sumv=can1+can2+can3+can4\r\n",
        "por1=(can1/sumv)*100\r\n",
        "por2=(can2/sumv)*100\r\n",
        "por3=(can3/sumv)*100\r\n",
        "por4=(can4/sumv)*100\r\n",
        "\r\n",
        "print(\"Voto candidato 1: \",can1, \"Porcentaje: %\",por1)\r\n",
        "print(\"Voto candidato 2: \",can2, \"Porcentaje: %\",por2)\r\n",
        "print(\"Voto candidato 3: \",can3, \"Porcentaje: %\",por3)\r\n",
        "print(\"Voto candidato 4: \",can4, \"Porcentaje: %\",por4)\r\n",
        "print(\"Cantidad de votantes: \",sumv)"
      ],
      "execution_count": null,
      "outputs": [
        {
          "output_type": "stream",
          "text": [
            "Ingrese los numeros de votos: 1\n",
            "Ingrese los numeros de votos: 1\n",
            "Ingrese los numeros de votos: 2\n",
            "Ingrese los numeros de votos: 1\n",
            "Ingrese los numeros de votos: 3\n",
            "Ingrese los numeros de votos: 1\n",
            "Ingrese los numeros de votos: 1\n",
            "Ingrese los numeros de votos: 2\n",
            "Ingrese los numeros de votos: 4\n",
            "Ingrese los numeros de votos: 4\n",
            "Ingrese los numeros de votos: 3\n",
            "Ingrese los numeros de votos: 1\n",
            "Ingrese los numeros de votos: 1\n",
            "Ingrese los numeros de votos: 2\n",
            "Ingrese los numeros de votos: 3\n",
            "Ingrese los numeros de votos: 1\n",
            "Ingrese los numeros de votos: 4\n",
            "Ingrese los numeros de votos: 1\n",
            "Ingrese los numeros de votos: 2\n",
            "Ingrese los numeros de votos: 1\n",
            "Ingrese los numeros de votos: 2\n",
            "Ingrese los numeros de votos: 4\n",
            "Ingrese los numeros de votos: 4\n",
            "Ingrese los numeros de votos: 2\n",
            "Ingrese los numeros de votos: 1\n",
            "Ingrese los numeros de votos: 0\n",
            "Voto candidato 1:  11 Porcentaje:  44.0\n",
            "Voto candidato 2:  6 Porcentaje:  24.0\n",
            "Voto candidato 3:  3 Porcentaje:  12.0\n",
            "Voto candidato 4:  5 Porcentaje:  20.0\n",
            "Cantidad de votantes:  25\n"
          ],
          "name": "stdout"
        }
      ]
    },
    {
      "cell_type": "code",
      "metadata": {
        "colab": {
          "base_uri": "https://localhost:8080/"
        },
        "id": "vkUrmLa4MDHG",
        "outputId": "a1d5884f-ebb0-466b-dcde-6379d80e8325"
      },
      "source": [
        "#Ejemplo 3.12\r\n",
        "\r\n",
        "Masue=0\r\n",
        "N=0\r\n",
        "\r\n",
        "N=float(input(\"Ingrese el total de empleados: \"))\r\n",
        "i=1\r\n",
        "while i<=N:\r\n",
        "  Numemp=int(input(\"Ingrese el numero de empleado: \"))\r\n",
        "  sue=float(input(\"Ingrese el sueldo: \"))\r\n",
        "  if sue>Masue:\r\n",
        "    Masue=sue\r\n",
        "    Manum=Numemp\r\n",
        "    i=i+1\r\n",
        "  else:\r\n",
        "    i=i+1\r\n",
        "print(\"Numero de empleado con mayor sueldo: \",Manum)\r\n",
        "print(\"El mayor sueldo de los empleados: \",Masue)"
      ],
      "execution_count": null,
      "outputs": [
        {
          "output_type": "stream",
          "text": [
            "Ingrese el total de empleados: 6\n",
            "Ingrese el numero de empleado: 1235\n",
            "Ingrese el sueldo: 2580\n",
            "Ingrese el numero de empleado: 1260\n",
            "Ingrese el sueldo: 1400\n",
            "Ingrese el numero de empleado: 1325\n",
            "Ingrese el sueldo: 3600\n",
            "Ingrese el numero de empleado: 1418\n",
            "Ingrese el sueldo: 2720\n",
            "Ingrese el numero de empleado: 1650\n",
            "Ingrese el sueldo: 4120\n",
            "Ingrese el numero de empleado: 1717\n",
            "Ingrese el sueldo: 1950\n",
            "Numero de empleado con mayor sueldo:  1650\n",
            "El mayor sueldo de los empleados:  4120.0\n"
          ],
          "name": "stdout"
        }
      ]
    },
    {
      "cell_type": "code",
      "metadata": {
        "id": "EMpXa1G4Q8ds"
      },
      "source": [
        "#Ejemplo 3.13\r\n",
        "\r\n",
        "arsu=0\r\n",
        "arno=0\r\n",
        "mersu=50000\r\n",
        "arce=0\r\n",
        "i=1\r\n",
        "\r\n",
        "while i<=12:\r\n",
        "  rno=float(input(\"Ingrese la cantidad de lluvia caída en la región norte: \"))\r\n",
        "  rce=float(input(\"Ingrese la cantidad de lluvia caída en la región centro: \"))\r\n",
        "  rsu=float(input(\"Ingrese la cantidad de lluvia caída en la región sur: \"))\r\n",
        "\r\n",
        "  arno=arno+rno\r\n",
        "  arce=arce+rce\r\n",
        "  arsu=arsu+rsu\r\n",
        "  if rsu<mersu:\r\n",
        "    mersu=rsu\r\n",
        "    mes=i\r\n",
        "    i=i+1\r\n",
        "  else:\r\n",
        "   i=i+1\r\n",
        "prorce=arce/12\r\n",
        "print(\"Promedio region centro: \",prorce)\r\n",
        "print(\"Mes con menor lluvia region sur: \",mes)\r\n",
        "print(\"registro del mes: \",mersu)\r\n",
        "\r\n",
        "if arno>arce:\r\n",
        "  if arno>arsu:\r\n",
        "    print(\"La region con mayor lluvia es la region norte\")\r\n",
        "  else:\r\n",
        "    print(\"La region con mayor lluvia es la region sur\")\r\n",
        "else:\r\n",
        "  if arce>arsu:\r\n",
        "    print(\"La region con mayor lluvia es la region centro\")\r\n",
        "  else:\r\n",
        "    print(\"La region con mayor lluvia es la region sur\")"
      ],
      "execution_count": null,
      "outputs": []
    },
    {
      "cell_type": "code",
      "metadata": {
        "colab": {
          "base_uri": "https://localhost:8080/"
        },
        "id": "G4FU2WErcsJ2",
        "outputId": "30a6a5aa-7d64-4576-bf4e-1a263912afea"
      },
      "source": [
        "#Ejemplo 3.14\r\n",
        "\r\n",
        "ap1=0\r\n",
        "ap2=0\r\n",
        "ap3=0\r\n",
        "ap4=0\r\n",
        "ap5=0\r\n",
        "recau=0\r\n",
        "\r\n",
        "p1=float(input(\"Ingrese el precio 1: \"))\r\n",
        "p2=float(input(\"Ingrese el precio 2: \"))9\r\n",
        "p3=float(input(\"Ingrese el precio 3: \"))\r\n",
        "p4=float(input(\"Ingrese el precio 4: \"))\r\n",
        "p5=float(input(\"Ingrese el precio 5: \"))\r\n",
        "clave=float(input(\"Ingrese la clave : \"))\r\n",
        "cant=float(input(\"Ingrese la cantidad: \"))\r\n",
        "while clave !=-1 and cant !=-1:\r\n",
        "  if clave ==1:\r\n",
        "    pre=p1*cant\r\n",
        "    ap1=ap1+cant\r\n",
        "  elif clave ==2:\r\n",
        "    pre=p2*cant\r\n",
        "    ap2=ap2+cant\r\n",
        "  elif clave==3:\r\n",
        "    pre=p3*cant\r\n",
        "    ap3=ap3+cant\r\n",
        "  elif clave==4:\r\n",
        "    pre=p4*cant\r\n",
        "    ap4=ap4+cant\r\n",
        "  elif clave==5:\r\n",
        "    pre=p5*cant\r\n",
        "    ap5=ap5+cant\r\n",
        "  print(\"Clave: \",clave)\r\n",
        "  print(\"Cantidad: \",cant)\r\n",
        "  print(\"Precio: \",pre)\r\n",
        "  recau=recau+pre\r\n",
        "  clave=float(input(\"Ingrese la clave : \"))\r\n",
        "  cant=float(input(\"Ingrese la cantidad: \"))\r\n",
        "print(\"Cantidad de boletos tipo 1: \",ap1)\r\n",
        "print(\"Cantidad de boletos tipo 2: \",ap2)\r\n",
        "print(\"Cantidad de boletos tipo 3: \",ap3)\r\n",
        "print(\"Cantidad de boletos tipo 4: \",ap4)\r\n",
        "print(\"Cantidad de boletos tipo 5: \",ap5)\r\n",
        "print(\"Recaudacion del estadio : \",recau)"
      ],
      "execution_count": null,
      "outputs": [
        {
          "output_type": "stream",
          "text": [
            "Ingrese el precio 1: 7.25\n",
            "Ingrese el precio 2: 15.80\n",
            "Ingrese el precio 3: 25.00\n",
            "Ingrese el precio 4: 50.00\n",
            "Ingrese el precio 5: 75.00\n",
            "Ingrese la clave : 2\n",
            "Ingrese la cantidad: 3\n",
            "Clave:  2.0\n",
            "Cantidad:  3.0\n",
            "Precio:  47.400000000000006\n",
            "Ingrese la clave : 3\n",
            "Ingrese la cantidad: 8\n",
            "Clave:  3.0\n",
            "Cantidad:  8.0\n",
            "Precio:  200.0\n",
            "Ingrese la clave : 2\n",
            "Ingrese la cantidad: 4\n",
            "Clave:  2.0\n",
            "Cantidad:  4.0\n",
            "Precio:  63.2\n",
            "Ingrese la clave : 1\n",
            "Ingrese la cantidad: 6\n",
            "Clave:  1.0\n",
            "Cantidad:  6.0\n",
            "Precio:  43.5\n",
            "Ingrese la clave : 4\n",
            "Ingrese la cantidad: 5\n",
            "Clave:  4.0\n",
            "Cantidad:  5.0\n",
            "Precio:  250.0\n",
            "Ingrese la clave : 1\n",
            "Ingrese la cantidad: 12\n",
            "Clave:  1.0\n",
            "Cantidad:  12.0\n",
            "Precio:  87.0\n",
            "Ingrese la clave : 2\n",
            "Ingrese la cantidad: 8\n",
            "Clave:  2.0\n",
            "Cantidad:  8.0\n",
            "Precio:  126.4\n",
            "Ingrese la clave : 5\n",
            "Ingrese la cantidad: 3\n",
            "Clave:  5.0\n",
            "Cantidad:  3.0\n",
            "Precio:  225.0\n",
            "Ingrese la clave : 2\n",
            "Ingrese la cantidad: 7\n",
            "Clave:  2.0\n",
            "Cantidad:  7.0\n",
            "Precio:  110.60000000000001\n",
            "Ingrese la clave : 3\n",
            "Ingrese la cantidad: 14\n",
            "Clave:  3.0\n",
            "Cantidad:  14.0\n",
            "Precio:  350.0\n",
            "Ingrese la clave : 4\n",
            "Ingrese la cantidad: 1\n",
            "Clave:  4.0\n",
            "Cantidad:  1.0\n",
            "Precio:  50.0\n",
            "Ingrese la clave : 2\n",
            "Ingrese la cantidad: 11\n",
            "Clave:  2.0\n",
            "Cantidad:  11.0\n",
            "Precio:  173.8\n",
            "Ingrese la clave : 4\n",
            "Ingrese la cantidad: 9\n",
            "Clave:  4.0\n",
            "Cantidad:  9.0\n",
            "Precio:  450.0\n",
            "Ingrese la clave : 5\n",
            "Ingrese la cantidad: 7\n",
            "Clave:  5.0\n",
            "Cantidad:  7.0\n",
            "Precio:  525.0\n",
            "Ingrese la clave : 1\n",
            "Ingrese la cantidad: 23\n",
            "Clave:  1.0\n",
            "Cantidad:  23.0\n",
            "Precio:  166.75\n",
            "Ingrese la clave : 1\n",
            "Ingrese la cantidad: 18\n",
            "Clave:  1.0\n",
            "Cantidad:  18.0\n",
            "Precio:  130.5\n",
            "Ingrese la clave : 3\n",
            "Ingrese la cantidad: 4\n",
            "Clave:  3.0\n",
            "Cantidad:  4.0\n",
            "Precio:  100.0\n",
            "Ingrese la clave : -1\n",
            "Ingrese la cantidad: -1\n",
            "Cantidad de boletos tipo 1:  59.0\n",
            "Cantidad de boletos tipo 2:  33.0\n",
            "Cantidad de boletos tipo 3:  26.0\n",
            "Cantidad de boletos tipo 4:  15.0\n",
            "Cantidad de boletos tipo 5:  10.0\n",
            "Recaudacion del estadio :  3099.1499999999996\n"
          ],
          "name": "stdout"
        }
      ]
    },
    {
      "cell_type": "code",
      "metadata": {
        "id": "hag_JBhknMra",
        "colab": {
          "base_uri": "https://localhost:8080/"
        },
        "outputId": "643db26f-5377-46b8-c52b-9fef731d9b86"
      },
      "source": [
        "#Ejemplo 3.15\r\n",
        "\r\n",
        "contL = 0\r\n",
        "costL = 0\r\n",
        "costN = 0\r\n",
        "costI = 0\r\n",
        "tipo = 1\r\n",
        "print(\"1. Internacional \\n2. Nacional \\n3. Local\")\r\n",
        "while tipo == 1 or tipo == 2 or tipo == 3 :\r\n",
        "    tipo = int(input(\"Ingrese el tipo de llamada con el numero seleccionado: \"))\r\n",
        "    minutos = 0\r\n",
        "    if tipo == 3 :\r\n",
        "        contL += 1\r\n",
        "    elif tipo == 2 :\r\n",
        "        minutos = int(input(\"Ingrese los minutos de la llamada: \"))\r\n",
        "        coste = (1.2 * minutos) if minutos > 0 and minutos < 4 else ((1.2 * 3) + (0.48 * (minutos - 3)))\r\n",
        "        costN += coste\r\n",
        "    elif tipo == 1 :\r\n",
        "        minutos = int(input(\"Minutos usados: \"))\r\n",
        "        coste = (7.59 * minutos) if minutos > 0 and minutos < 4 else ((7.59 * 3) + (3.03 * (minutos - 3)))\r\n",
        "        costI += coste\r\n",
        "    else :\r\n",
        "        break\r\n",
        "costeL = ((contL - 50) * 0.6) if contL > 50 else costL\r\n",
        "print(\"Coste total llamada internacional: ${0:.2f}\".format(costI))\r\n",
        "print(\"Coste total llamada nacional: ${0:.2f}\".format(costN))\r\n",
        "print(\"Coste total llamada local: ${0:.2f}\".format(costL))\r\n",
        "print(f\"Total: {costI + costN + costL}\")"
      ],
      "execution_count": null,
      "outputs": [
        {
          "output_type": "stream",
          "text": [
            "1. Internacional \n",
            "2. Nacional \n",
            "3. Local\n",
            "Ingrese el tipo de llamada con el numero seleccionado: 1\n",
            "Minutos usados: 7\n",
            "Ingrese el tipo de llamada con el numero seleccionado: 2\n",
            "Ingrese los minutos de la llamada: 6\n",
            "Ingrese el tipo de llamada con el numero seleccionado: 2\n",
            "Ingrese los minutos de la llamada: 12\n",
            "Ingrese el tipo de llamada con el numero seleccionado: 3\n",
            "Ingrese el tipo de llamada con el numero seleccionado: 3\n",
            "Ingrese el tipo de llamada con el numero seleccionado: 3\n",
            "Ingrese el tipo de llamada con el numero seleccionado: 2\n",
            "Ingrese los minutos de la llamada: 16\n",
            "Ingrese el tipo de llamada con el numero seleccionado: 3\n",
            "Ingrese el tipo de llamada con el numero seleccionado: 3\n",
            "Ingrese el tipo de llamada con el numero seleccionado: 3\n",
            "Ingrese el tipo de llamada con el numero seleccionado: 1\n",
            "Minutos usados: 11\n",
            "Ingrese el tipo de llamada con el numero seleccionado: 4\n",
            "Coste total llamada internacional: $81.90\n",
            "Coste total llamada nacional: $22.80\n",
            "Coste total llamada local: $0.00\n",
            "Total: 104.7\n"
          ],
          "name": "stdout"
        }
      ]
    },
    {
      "cell_type": "code",
      "metadata": {
        "id": "0VkdDVx-776L"
      },
      "source": [
        "#Ejemplo 3.16\r\n",
        "tipo1=0\r\n",
        "tipo2=0\r\n",
        "tipo3=0\r\n",
        "tipo4=0\r\n",
        "tipo5=0\r\n",
        "mctipo2=0\r\n",
        "\r\n",
        "n=float(input(\"Ingrese el numero de años: \"))\r\n",
        "i=1\r\n",
        "while i<=n:\r\n",
        "  j=1\r\n",
        "  totvin=0\r\n",
        "  while j<=5:\r\n",
        "    v=float(input(\"Ingrese la cantidad de litros de vino del tipo J: \"))\r\n",
        "    totvin=totvin+v\r\n",
        "    if j==1:\r\n",
        "      tipo1=tipo1+v\r\n",
        "      j=j+1\r\n",
        "    elif j==2:\r\n",
        "      tipo2=tipo2+v\r\n",
        "      if v>mctipo2:\r\n",
        "        mctipo2=v\r\n",
        "        año=i\r\n",
        "        j=j+1\r\n",
        "      else:\r\n",
        "        j=j+1\r\n",
        "    elif j==3:\r\n",
        "      tipo3=tipo3+v\r\n",
        "      if v==0:\r\n",
        "        print(\"El año: \",i)\r\n",
        "        print(\"No se produjo vino tipo 3\")\r\n",
        "        j=j+1\r\n",
        "      else:\r\n",
        "        j=j+1\r\n",
        "    elif j==4:\r\n",
        "      tipo4=tipo4+v\r\n",
        "      j=j+1\r\n",
        "    elif j==5:\r\n",
        "      tipo5=tipo5+v\r\n",
        "      j=j+1\r\n",
        "  print(\"Total de litros producidos por año\", totvin)\r\n",
        "  i=i+1\r\n",
        "print(\"Total tipo1: \",tipo1)\r\n",
        "print(\"Total tipo2: \",tipo2)\r\n",
        "print(\"Total tipo3: \",tipo3)\r\n",
        "print(\"Total tipo4: \",tipo4)\r\n",
        "print(\"Total tipo5: \",tipo5)\r\n",
        "print(\"Año en que se produjo mayor cantidad de vino tipo2\",año,\"Litros\",mctipo2)"
      ],
      "execution_count": null,
      "outputs": []
    },
    {
      "cell_type": "code",
      "metadata": {
        "id": "zSxDstGZFLGy"
      },
      "source": [
        "#Ejemplo 3.17\r\n",
        "limite = int(input(\"Numero limite: \"))\r\n",
        "if limite < 1 :\r\n",
        "    print(\"Entrada no valida.\")\r\n",
        "else :\r\n",
        "    i = 1\r\n",
        "    cadena = \"1, \"\r\n",
        "    while i <= limite :\r\n",
        "        if i+2 > limite :\r\n",
        "            break\r\n",
        "        else :\r\n",
        "            i += 2\r\n",
        "            cont = 0\r\n",
        "            for e in range(1, i, 2) :\r\n",
        "                cont = (cont + 1) if i%e == 0 else cont\r\n",
        "            cadena = (cadena + str(i) + \", \") if cont == 1 else cadena\r\n",
        "    print(cadena)\r\n",
        "Numero limite: 47"
      ],
      "execution_count": null,
      "outputs": []
    },
    {
      "cell_type": "code",
      "metadata": {
        "id": "KUuEpB8rPLjI"
      },
      "source": [
        "#Ejemplo 3.18\r\n",
        "\r\n",
        "empresas = int(input(\"Numero de empresas: \"))\r\n",
        "mes = [\"Enero\", \"Febrero\", \"Marzo\", \"Abril\", \"Mayo\", \"Junio\", \"Julio\", \"Agosto\", \"Septiembre\", \"Octubre\", \"Noviembre\", \"Diciembre\"]\r\n",
        "produccion = []\r\n",
        "totalProduccion = []\r\n",
        "mayorProduccion = 0\r\n",
        "idMayorProduccion = 0\r\n",
        "for i in range(empresas) :\r\n",
        "    aux = []\r\n",
        "    cont = 0\r\n",
        "    aux.append(int(input(\"ID: \")))\r\n",
        "    for j in mes :\r\n",
        "        print(f\"Mes de {j}\")\r\n",
        "        producto = float(input(\"Produccion: $\"))\r\n",
        "        if producto < 0 :\r\n",
        "            break\r\n",
        "        aux.append(producto)\r\n",
        "        cont += producto\r\n",
        "    produccion.append(aux)\r\n",
        "    totalProduccion.append(cont)\r\n",
        "for i in range(empresas) :\r\n",
        "    if produccion[i][7] > 3000000 :\r\n",
        "        print(f\"La empresa con el ID {produccion[i][0]} produjo mas de $3,000,000 en julio\")\r\n",
        "for index, i in enumerate(totalProduccion) :\r\n",
        "    print(f\"La empresa con el ID {produccion[index][0]} produjo ${i}\")\r\n",
        "    if i > mayorProduccion :\r\n",
        "        mayorProduccion = i\r\n",
        "        idMayorProduccion = index\r\n",
        "print(f\"La empresa con mayor produccion tiene el ID {produccion[idMayorProduccion][0]}, produjo ${mayorProduccion}\")13"
      ],
      "execution_count": null,
      "outputs": []
    },
    {
      "cell_type": "code",
      "metadata": {
        "id": "gOhKjabYbkqN"
      },
      "source": [
        "#Problema 3.19\r\n",
        "numero = int(input(\"Numero: \"))\r\n",
        "print(\"El numero 1 es un numero perfecto.\")\r\n",
        "for i in range(1, numero) :\r\n",
        "    cont = 0\r\n",
        "    j = 1\r\n",
        "    while j <= int(i/2) :\r\n",
        "        if i%j == 0 :\r\n",
        "            cont += j\r\n",
        "        j += 1\r\n",
        "    if cont == i :\r\n",
        "        print(f\"El numero {i} es un numero perfecto.\")"
      ],
      "execution_count": null,
      "outputs": []
    }
  ]
}