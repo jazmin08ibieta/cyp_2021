{
  "nbformat": 4,
  "nbformat_minor": 0,
  "metadata": {
    "colab": {
      "name": "19/Noviembre CyP",
      "provenance": [],
      "authorship_tag": "ABX9TyOFQ8vS8oc3s1SFMKkJ8QKf",
      "include_colab_link": true
    },
    "kernelspec": {
      "name": "python3",
      "display_name": "Python 3"
    }
  },
  "cells": [
    {
      "cell_type": "markdown",
      "metadata": {
        "id": "view-in-github",
        "colab_type": "text"
      },
      "source": [
        "<a href=\"https://colab.research.google.com/github/jazmin08ibieta/cyp_2021/blob/main/19_Noviembre_CyP.ipynb\" target=\"_parent\"><img src=\"https://colab.research.google.com/assets/colab-badge.svg\" alt=\"Open In Colab\"/></a>"
      ]
    },
    {
      "cell_type": "code",
      "metadata": {
        "colab": {
          "base_uri": "https://localhost:8080/"
        },
        "id": "x0589NvCg4Qa",
        "outputId": "cdadb857-5cbd-4c0e-b927-eb504f80933a"
      },
      "source": [
        "#Concepto de asignación\n",
        "I=0\n",
        "I= I+1\n",
        "I= I+1\n",
        "print(f\"I= {I}\")\n",
        "\n",
        "J=5**2/3\n",
        "print(f\"J={J}\")"
      ],
      "execution_count": 2,
      "outputs": [
        {
          "output_type": "stream",
          "text": [
            "I= 2\n",
            "J=8.333333333333334\n"
          ],
          "name": "stdout"
        }
      ]
    },
    {
      "cell_type": "code",
      "metadata": {
        "colab": {
          "base_uri": "https://localhost:8080/"
        },
        "id": "lEOkRBf5mwVi",
        "outputId": "77318e56-52f4-4750-a845-76691616609c"
      },
      "source": [
        "#declaración de variables (reservando memoria)\n",
        "A=0\n",
        "B=0\n",
        "C=0\n",
        "D=0\n",
        "\n",
        "A=int(input(\"Dame un valor entero:\"))\n",
        "B=int(input(\"Dame un valor entero:\"))\n",
        "C=int(input(\"Dame un valor entero:\"))\n",
        "D=int(input(\"Dame un valor entero:\"))\n",
        "\n",
        "print(D)\n",
        "print(C)\n",
        "print(B)\n",
        "print(A)"
      ],
      "execution_count": 4,
      "outputs": [
        {
          "output_type": "stream",
          "text": [
            "Dame un valor entero:10\n",
            "Dame un valor entero:20\n",
            "Dame un valor entero:30\n",
            "Dame un valor entero:40\n",
            "40\n",
            "30\n",
            "20\n",
            "10\n"
          ],
          "name": "stdout"
        }
      ]
    },
    {
      "cell_type": "code",
      "metadata": {
        "colab": {
          "base_uri": "https://localhost:8080/"
        },
        "id": "mQYY7PlopO05",
        "outputId": "a689b0f9-266a-459f-dc7e-cf3f3587987d"
      },
      "source": [
        "#Ejemplo 1.7\n",
        "\n",
        "A=0\n",
        "B=0\n",
        "RES=0\n",
        "A=int(input(\"Dame un entero:\"))\n",
        "B=int(input(\"Dame un otro entero:\"))\n",
        "RES=(A+B)**2/3\n",
        "print(RES)"
      ],
      "execution_count": 6,
      "outputs": [
        {
          "output_type": "stream",
          "text": [
            "Dame un entero:14\n",
            "Dame un otro entero:-5\n",
            "27.0\n"
          ],
          "name": "stdout"
        }
      ]
    },
    {
      "cell_type": "code",
      "metadata": {
        "colab": {
          "base_uri": "https://localhost:8080/"
        },
        "id": "e4icn2XeuPLr",
        "outputId": "5d538a1b-9e0a-4084-9aba-ae524a421b86"
      },
      "source": [
        "#Ejemplo 1.8\n",
        "\n",
        "MAT=0\n",
        "CAL1=0\n",
        "CAL2=0\n",
        "CAL3=0\n",
        "CAL4=0\n",
        "CAL5=0\n",
        "PRO=0\n",
        "\n",
        "MAT=input(\"Dame la matricula:\")\n",
        "CAL1=float(input(\"Dame la primer calificación:\"))\n",
        "CAL2=float(input(\"Dame la segunda calificación:\"))\n",
        "CAL3=float(input(\"Dame la tercer calificación:\"))\n",
        "CAL4=float(input(\"Dame la cuarta calificación:\"))\n",
        "CAL5=float(input(\"Dame la quinta calificación:\"))\n",
        "\n",
        "PRO=(CAL1+CAL2+CAL3+CAL4+CAL5)/5\n",
        "print(\"Matricula:\",MAT)\n",
        "print(\"El promedio es:\",PRO)"
      ],
      "execution_count": 22,
      "outputs": [
        {
          "output_type": "stream",
          "text": [
            "Dame la matricula:1234\n",
            "Dame la primer calificación:5\n",
            "Dame la segunda calificación:5\n",
            "Dame la tercer calificación:5\n",
            "Dame la cuarta calificación:5\n",
            "Dame la quinta calificación:5\n",
            "Matricula: 1234\n",
            "El promedio es: 5.0\n"
          ],
          "name": "stdout"
        }
      ]
    },
    {
      "cell_type": "code",
      "metadata": {
        "colab": {
          "base_uri": "https://localhost:8080/"
        },
        "id": "0qRdGJ8kyBWp",
        "outputId": "ddbf5ed8-8228-48ae-ca33-245062727b98"
      },
      "source": [
        "#Ejemplo 1.9\n",
        "NUM=0\n",
        "CUA=0\n",
        "CUB=0\n",
        "\n",
        "NUM=int(input(\"Dame un numero:\"))\n",
        "\n",
        "CUA=NUM**2\n",
        "CUB=NUM**3 \n",
        "print(\"Su cuadrado es:\",CUA)\n",
        "print(\"Su cubo es:\",CUB)"
      ],
      "execution_count": 21,
      "outputs": [
        {
          "output_type": "stream",
          "text": [
            "Dame un numero:8\n",
            "Su cuadrado es: 64\n",
            "Su cubo es: 512\n"
          ],
          "name": "stdout"
        }
      ]
    },
    {
      "cell_type": "code",
      "metadata": {
        "colab": {
          "base_uri": "https://localhost:8080/"
        },
        "id": "uGTAF2Ud0Ive",
        "outputId": "949a1e69-3b04-419b-eddd-e94e39ed6446"
      },
      "source": [
        "#Ejemplo 1.10\n",
        "\n",
        "BASE=0\n",
        "ALTURA=0\n",
        "PER=0\n",
        "SUP=0\n",
        "\n",
        "BASE=float(input(\"Dame su base:\"))\n",
        "ALTURA=float(input(\"Dame su altura:\"))\n",
        "\n",
        "SUP=BASE*ALTURA\n",
        "PER=2*(BASE+ALTURA)\n",
        "print(\"La superficie es:\",SUP)\n",
        "print(\"El perimetro es:\",PER)"
      ],
      "execution_count": 27,
      "outputs": [
        {
          "output_type": "stream",
          "text": [
            "Dame su base:15.18\n",
            "Dame su altura:22.0\n",
            "La superficie es: 333.96\n",
            "El perimetro es: 74.36\n"
          ],
          "name": "stdout"
        }
      ]
    }
  ]
}