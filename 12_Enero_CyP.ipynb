{
  "nbformat": 4,
  "nbformat_minor": 0,
  "metadata": {
    "colab": {
      "name": "12_Enero_CyP",
      "provenance": [],
      "authorship_tag": "ABX9TyOAy7kkURRhCNtyqd2MGD4t",
      "include_colab_link": true
    },
    "kernelspec": {
      "name": "python3",
      "display_name": "Python 3"
    }
  },
  "cells": [
    {
      "cell_type": "markdown",
      "metadata": {
        "id": "view-in-github",
        "colab_type": "text"
      },
      "source": [
        "<a href=\"https://colab.research.google.com/github/jazmin08ibieta/cyp_2021/blob/main/12_Enero_CyP.ipynb\" target=\"_parent\"><img src=\"https://colab.research.google.com/assets/colab-badge.svg\" alt=\"Open In Colab\"/></a>"
      ]
    },
    {
      "cell_type": "code",
      "metadata": {
        "id": "r5bqVnA9lsRL"
      },
      "source": [
        ""
      ],
      "execution_count": null,
      "outputs": []
    },
    {
      "cell_type": "markdown",
      "metadata": {
        "id": "N8GXmO1MpT5W"
      },
      "source": [
        "#Introduccion a Python\r\n",
        "-Creado en los 90s por Guido Van R.\r\n",
        "-en el 2000 python mejora y tiene nuevas caracteristicas\r\n",
        "-en el 2020 deja de ser la version oficial python 2.7 y solo se le dara soporte a python 3 en adelante.\r\n",
        "## Caracteristicas de Python\r\n",
        "1. Lenguage de proposito general\r\n",
        "2. Interpretado y no compilado\r\n",
        "3. Tipos de datos dinámicos (numericos, cadena, booleanos. etc)\r\n",
        "4. Multiplataforma\r\n",
        "5. Lenguaje multi-paradigma. (imperativa, POO y funcional)\r\n",
        "6. Código es estructurado por indentación.\r\n",
        "\r\n",
        "'''\r\n",
        "if a > 10:\r\n",
        "  print(\"Hola\")\r\n",
        "print(\"Hola dos\")\r\n",
        "'''\r\n",
        "##Principios Zen de python\r\n",
        "\r\n",
        "Son las caracteristicas que guian el diseño del lenguaje de programación.\r\n"
      ]
    },
    {
      "cell_type": "code",
      "metadata": {
        "colab": {
          "base_uri": "https://localhost:8080/"
        },
        "id": "dM7wR6PWul4B",
        "outputId": "ee2b0fd1-51a4-48f3-d240-01936b19530a"
      },
      "source": [
        "#Primer programa en Python\r\n",
        "\r\n",
        "nombre=\"Jose\"\r\n",
        "edad= 18\r\n",
        "print(\"Hola\", nombre, edad)"
      ],
      "execution_count": null,
      "outputs": [
        {
          "output_type": "stream",
          "text": [
            "Hola Jose 18\n"
          ],
          "name": "stdout"
        }
      ]
    },
    {
      "cell_type": "markdown",
      "metadata": {
        "id": "g0wNfTHnvsXB"
      },
      "source": [
        "#La funcion print()\r\n",
        "Es una de las funciones mas empleadas en programacion y busca enviar datos a la salida estandar (monitor)\r\n",
        " ### Formas de uso\r\n",
        " 1. Con comas\r\n",
        " 2. Signos +\r\n",
        " 3. .format()\r\n",
        " 4. El operador f\r\n",
        "\r\n",
        " #### Con comas\r\n",
        " Concatena los argumentos enviados a print y les agrega un espacio.\r\n",
        "\r\n",
        "#### Con signos +\r\n",
        "concatena los valores sin espacio y sin haceer la conversion de tipos\r\n",
        "#### Con funcion format()\r\n",
        "Permite darle formato a la salida de la impresion de variables. Emplea la funcion format de el tipo de dato String.\r\n",
        "\"cadena {} a {} forma{}tear\".format(v1,v2,vn)\r\n",
        "Emplea como  comodines para sustituir los valore de los gisnos {}\r\n",
        "#### Con el operador f\"\"\r\n",
        "Es una variante de la forma enterior pero enmascarando la funcion format().\r\n",
        "\r\n",
        "print(f\"adadasd {var} asdsad {var2} asdsad {varn}\")"
      ]
    },
    {
      "cell_type": "code",
      "metadata": {
        "colab": {
          "base_uri": "https://localhost:8080/"
        },
        "id": "zdUqKPUNwVBa",
        "outputId": "e1ce3c2e-a110-4b58-e0c9-2d8a0f4ba060"
      },
      "source": [
        "print(\"Hola\", nombre, edad)\r\n",
        "print(\"Hola \"+ nombre+\" \"+str(edad))\r\n",
        "#Nombre: Jose, con una edad de: 18 años.\r\n",
        "print(\"Hombre\", nombre, \"con una edad de: \",edad, \"años\")\r\n",
        "print(\"Hombre \" + nombre + \" con una edad de: \"+ str(edad) + \" años\")\r\n",
        "#Con format()\r\n",
        "print(\"Nombre {0} con una edad de: {1} años.\".format(nombre,edad))\r\n",
        "#Con el operador f\"\"\"\r\n",
        "print(f\"Nombre: {nombre} con una edad de: {edad} años.\")"
      ],
      "execution_count": 17,
      "outputs": [
        {
          "output_type": "stream",
          "text": [
            "Hola Jose 18\n",
            "Hola Jose 18\n",
            "Hombre Jose con una edad de:  18 años\n",
            "Hombre Jose con una edad de: 18 años\n",
            "Nombre Jose con una edad de: 18 años.\n",
            "Nombre: Jose con una edad de: 18 años.\n"
          ],
          "name": "stdout"
        }
      ]
    },
    {
      "cell_type": "markdown",
      "metadata": {
        "id": "ia8TQIDt2G8H"
      },
      "source": [
        "# Funcion print() y los caracteres de escape.\r\n",
        "1. \\n salto de linea\r\n",
        "2. \\t tabulador\r\n",
        "3. \\\\ imprimir la diagonal \\ \r\n",
        "4. \\´ y \\\"\r\n",
        "5. \\uxxxx\r\n",
        "6. \\uxxxxxxxx \r\n"
      ]
    },
    {
      "cell_type": "code",
      "metadata": {
        "colab": {
          "base_uri": "https://localhost:8080/"
        },
        "id": "MTk_rgKd2ZVj",
        "outputId": "42511de3-33c5-46aa-d85c-68db0ac7ad61"
      },
      "source": [
        "print(\"\\\"\")\r\n",
        "print('\"')\r\n",
        "print(\"Nombre jose \\n\\t con una edad \\\\ de: 18 años.\")\r\n",
        "#Caracteres unicode\r\n",
        "print(\"Hola \\u553F\")"
      ],
      "execution_count": 26,
      "outputs": [
        {
          "output_type": "stream",
          "text": [
            "\"\n",
            "\"\n",
            "Nombre jose \n",
            "\t con una edad \\ de: 18 años.\n",
            "Hola 唿\n"
          ],
          "name": "stdout"
        }
      ]
    },
    {
      "cell_type": "markdown",
      "metadata": {
        "id": "Dg88cRRk8HDV"
      },
      "source": [
        "#print() y salto de linea en el argumento\r\n",
        "\r\n",
        "print([Lista de variables a imprimir], end=\"\\n\")"
      ]
    },
    {
      "cell_type": "code",
      "metadata": {
        "colab": {
          "base_uri": "https://localhost:8080/"
        },
        "id": "LtFzZQ4v8YCP",
        "outputId": "ae32a6d4-9965-4228-8daa-4c20cb142f1d"
      },
      "source": [
        "print(\"Hola\", end=\"\\u13CD\")\r\n",
        "print(\"Mundo\", end=\"+++++\")\r\n",
        "print(\"Fin\", end=\"\\n\")"
      ],
      "execution_count": 30,
      "outputs": [
        {
          "output_type": "stream",
          "text": [
            "HolaᏍMundo+++++Fin\n"
          ],
          "name": "stdout"
        }
      ]
    },
    {
      "cell_type": "markdown",
      "metadata": {
        "id": "QYUHdir_9fBD"
      },
      "source": [
        "# Comentarios en Python\r\n",
        "Un comentario  en programacion es un texto especial que es ignorado por el interprete o compilador (Segun sea el caso del lenguage) y es empleado para que el programador documente sus algoritmos \r\n",
        "\r\n",
        "Existen de dos tipo: De linea simple y de multiple linea.\r\n",
        "\r\n",
        "En python.\r\n",
        "1. Linea simple se emplea #\r\n",
        "2. linea multiple \r\n",
        "'''\r\n",
        "\"\"\"\r\n",
        "Comentario de liena simple\r\n",
        "\"\"\"\r\n",
        "'''\r\n"
      ]
    },
    {
      "cell_type": "code",
      "metadata": {
        "colab": {
          "base_uri": "https://localhost:8080/"
        },
        "id": "GbgpNV13-f0H",
        "outputId": "1b603736-e91f-4468-da1b-a144792958ff"
      },
      "source": [
        "print(\"Hola\")\r\n",
        "#Print (\"Hola\")\r\n",
        "print(\"Hola\")\r\n",
        "print(\"Hola\")#Impresion \r\n",
        "\"\"\"\r\n",
        "esto es un comentario de multiple linea ideal para explicar a fondo que requiera mayor detalle\r\n",
        "\"\"\"\r\n",
        "print(\"Hola\")\r\n",
        "print(\"Hola\")\r\n",
        "print(\"Hola\")"
      ],
      "execution_count": 31,
      "outputs": [
        {
          "output_type": "stream",
          "text": [
            "Hola\n",
            "Hola\n",
            "Hola\n",
            "Hola\n",
            "Hola\n",
            "Hola\n"
          ],
          "name": "stdout"
        }
      ]
    }
  ]
}