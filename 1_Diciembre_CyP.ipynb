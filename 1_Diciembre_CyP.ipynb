{
  "nbformat": 4,
  "nbformat_minor": 0,
  "metadata": {
    "colab": {
      "name": "1_Diciembre CyP",
      "provenance": [],
      "authorship_tag": "ABX9TyMR2+Gkmfv7YA3IfnK4L2d4",
      "include_colab_link": true
    },
    "kernelspec": {
      "name": "python3",
      "display_name": "Python 3"
    }
  },
  "cells": [
    {
      "cell_type": "markdown",
      "metadata": {
        "id": "view-in-github",
        "colab_type": "text"
      },
      "source": [
        "<a href=\"https://colab.research.google.com/github/jazmin08ibieta/cyp_2021/blob/main/1_Diciembre_CyP.ipynb\" target=\"_parent\"><img src=\"https://colab.research.google.com/assets/colab-badge.svg\" alt=\"Open In Colab\"/></a>"
      ]
    },
    {
      "cell_type": "code",
      "metadata": {
        "colab": {
          "base_uri": "https://localhost:8080/"
        },
        "id": "EgjAC2OuS6Or",
        "outputId": "6354f003-4be6-48e0-fc4c-3b2f03ce8ebf"
      },
      "source": [
        "#Ejemplo 1\n",
        "numero1=int(input(\"Introduce el primer numero:\"))\n",
        "\n",
        "numero2=int(input(\"Introduce el segundo numero:\"))\n",
        "\n",
        "numero3=int(input(\"Introduce el tercer numero:\"))\n",
        "\n",
        "if numero1 >= numero2 and numero1 >= numero3:\n",
        "  print(numero1, \"es mayor\")\n",
        "elif numero2 >= numero1 and numero2 >= numero3:\n",
        "  print(numero2,\"es el mayor\")"
      ],
      "execution_count": 2,
      "outputs": [
        {
          "output_type": "stream",
          "text": [
            "Introduce el primer numero:9\n",
            "Introduce el segundo numero:3\n",
            "Introduce el tercer numero:4\n",
            "9 es mayor\n"
          ],
          "name": "stdout"
        }
      ]
    },
    {
      "cell_type": "code",
      "metadata": {
        "id": "bXdP6mZqVaH2"
      },
      "source": [
        "#Ejemplo 2\n",
        "\n",
        "print(\"Ingrese el nombre del trabjador\")\n",
        "nombre=input()\n",
        "print(\"Cuantas horas trabajo esta semana\", nombre, \":\")\n",
        "horas=int(input())\n",
        "print(\"Cuanto se paga por hora?:\")\n",
        "sueldoH=float(input())\n",
        "\n",
        "# Evaluar su sueldo\n",
        "if(horas<=40):\n",
        "  pago=horas*sueldoH\n",
        "  print(\"El sueldo final de \", nombre,\"Es $\", pago)\n",
        "\n",
        "else:\n",
        "  extras=horas-40\n",
        "  pago=40*sueldoH\n",
        "  pagoFi=pago+((extras*sueldoH)*2)\n",
        "  print(\"El sueldo final de \",nombre, \"Es $\", pagoFi)"
      ],
      "execution_count": null,
      "outputs": []
    },
    {
      "cell_type": "code",
      "metadata": {
        "id": "MTwwmgu1Zagd"
      },
      "source": [
        "#Ejemplo 3\n",
        "#Calcular el salario semanal de x trabajador\n",
        "#El salario semanal se calcula en base a las horas semanales trabajadas\n",
        "#El pago por hora es variable (se pide por teclado)\n",
        "#Si las horas trabajadas superan las 40 horas, el pago por hora extra es:\n",
        "#Doble en el rango de 41horas a 50horas\n",
        "#Triple en el rango de 51horas a 60 horas\n",
        "#Incentivo de $2000 si rebasa las 60 horas.\n",
        "\n",
        "print(\"Ingrese el nombre del trabjador\")\n",
        "nombre=input()\n",
        "print(\"Cuantas horas trabajo esta semana\", nombre, \":\")\n",
        "horas=int(input())\n",
        "print(\"Cuanto se paga por hora?:\")\n",
        "sueldoH=float(input())\n",
        "\n",
        "#Evaluar el sueldo\n",
        "\n",
        "if(horas<=40):\n",
        "  pago=horas*sueldoH\n",
        "  print(\"El sueldo de\",nombre,\"es $\", pago)\n",
        "\n",
        "elif(horas>40 and horas <=50):\n",
        "  extrasDobles=horas-40\n",
        "  print(\"Horas extras:\",extrasDobles)\n",
        "  pago=40*sueldoH\n",
        "  print(\"Sueldo $\", pago)\n",
        "  pagoDoble=extrasDobles*sueldoH*2\n",
        "  print(\"pago de horas dobles $\", pagoDoble)\n",
        "  pagoFinal=pago+pagoDoble\n",
        "  print(\"El sueldo de\",nombre,\"es $\", pagoFinal)\n",
        "\n",
        "elif ((horas>=51 and horas <=60 )):\n",
        "    extrasTriples=horas-50\n",
        "    print(\"horas extra dobles:10\")\n",
        "    print(\"horas extra triples:\", extrasTriples)\n",
        "    pago=40*sueldoH\n",
        "    print(\"sueldo base: $\", pago)\n",
        "    pagoDoble=10*sueldoH*2\n",
        "    print(\"pago de horas extras dobles:\", pagoDoble)\n",
        "    pagoTriple=extrasTriples*sueldoH*3\n",
        "    print(\"pago de horas extra triples:\" ,pagoTriple)\n",
        "    pagoFinal=pago+pagoDoble+pagoTriple\n",
        "    print(\"El sueldo de\",nombre,\"es $\", pagoFinal)\n",
        "\n",
        "else:\n",
        "  extrasTriples=10\n",
        "  print(\"Horas extra dobles 10\")\n",
        "  print(\"Horas extras triples 10\")\n",
        "  pago=40*sueldoH\n",
        "  print(\"Sueldo base:\",pago)\n",
        "  pagoDoble=10*sueldoH*2\n",
        "  print(\"Pago de horas extra dobles:\", pagoDoble)\n",
        "  pagoTriple=extrasTriples*sueldoH*3\n",
        "  print(\"Pago de horas extras triples;\", pagoTriple)\n",
        "  print(\"Incentivo trabajo mayor a 60 horas: $2000\")\n",
        "  pagoFinal= pago+pagoDoble+pagoTriple+2000\n",
        "  print(\"El sueldo de\",nombre,\"es $\", pagoFinal)"
      ],
      "execution_count": null,
      "outputs": []
    },
    {
      "cell_type": "code",
      "metadata": {
        "id": "VIWmK82hn7Eq"
      },
      "source": [
        "#Estructura FOR\n",
        "#Ejemplo 1\n",
        "\n",
        "for estaciones_año in[\"primavera\", \"verano\", \"otoño\", \"invierno\"]: \n",
        " print(estaciones_año)\n"
      ],
      "execution_count": null,
      "outputs": []
    },
    {
      "cell_type": "code",
      "metadata": {
        "id": "RM84TaRCtQB8"
      },
      "source": [
        "for estaciones_año in[\"primavera\", \"verano\", \"otoño\", \"invierno\"]: \n",
        " print(\"Hola\")"
      ],
      "execution_count": null,
      "outputs": []
    }
  ]
}