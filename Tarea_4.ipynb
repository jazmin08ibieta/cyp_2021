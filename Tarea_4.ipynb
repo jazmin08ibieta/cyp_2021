{
  "nbformat": 4,
  "nbformat_minor": 0,
  "metadata": {
    "colab": {
      "name": "Tarea 4",
      "provenance": [],
      "authorship_tag": "ABX9TyNMiOOJN2nm+yXJFVhophD/",
      "include_colab_link": true
    },
    "kernelspec": {
      "name": "python3",
      "display_name": "Python 3"
    }
  },
  "cells": [
    {
      "cell_type": "markdown",
      "metadata": {
        "id": "view-in-github",
        "colab_type": "text"
      },
      "source": [
        "<a href=\"https://colab.research.google.com/github/jazmin08ibieta/cyp_2021/blob/main/Tarea_4.ipynb\" target=\"_parent\"><img src=\"https://colab.research.google.com/assets/colab-badge.svg\" alt=\"Open In Colab\"/></a>"
      ]
    },
    {
      "cell_type": "code",
      "metadata": {
        "id": "PvKEzLEgtmJM"
      },
      "source": [
        "#EJEMPLO 2.4\n",
        "\n",
        "nombre=input(\"Ingrese el nombre del trabajador: \")\n",
        "salario=float(input(\"Ingrese su sueldo: \"))\n",
        "\n",
        "if salario <1000:\n",
        "  aumen=salario*0.15\n",
        "  total=salario+aumen\n",
        "  print(\"El salario de\",nombre, \"es: $\",total)\n",
        "\n",
        "else:\n",
        "  aument=salario*0.12\n",
        "  resul=salario+aument\n",
        "  print(\"El salario de\",nombre, \"es: $\",resul)\n"
      ],
      "execution_count": null,
      "outputs": []
    },
    {
      "cell_type": "code",
      "metadata": {
        "colab": {
          "base_uri": "https://localhost:8080/"
        },
        "id": "6ei--fLGxpid",
        "outputId": "561fc06f-ef54-4fa2-d587-6dec4919ffe7"
      },
      "source": [
        "#EJEMPLO 2.8\n",
        "\n",
        "cat=int(input(\"Ingrese su categoria: \"))\n",
        "salario=float(input(\"Ingrese su salario: \"))\n",
        "\n",
        "if cat==1:\n",
        "  aumen=salario*0.15\n",
        "  tot=salario+aumen\n",
        "  print(\"Su salario total es: $\", tot)\n",
        "\n",
        "elif cat==2:\n",
        "  aumento=salario*0.10\n",
        "  saltotal=salario+aumento\n",
        "  print(\"Su salario total es: $\", saltotal)\n",
        "\n",
        "elif cat==3:\n",
        "  aument=salario*0.08\n",
        "  totalsal=salario+aument\n",
        "  print(\"Su salario total es: $\", totalsal)\n",
        "\n",
        "elif cat==4:\n",
        "  aum=salario*0.07\n",
        "  tota=salario+aum\n",
        "  print(\"Su salario total es: $\", tota)"
      ],
      "execution_count": 23,
      "outputs": [
        {
          "output_type": "stream",
          "text": [
            "Ingrese su categoria: 4\n",
            "Ingrese su salario: 6200\n",
            "Su salario total es: $ 6634.0\n"
          ],
          "name": "stdout"
        }
      ]
    }
  ]
}