{
  "nbformat": 4,
  "nbformat_minor": 0,
  "metadata": {
    "colab": {
      "name": "Tarea 5",
      "provenance": [],
      "authorship_tag": "ABX9TyOvhz9NhkI02gTDsIX15bHh",
      "include_colab_link": true
    },
    "kernelspec": {
      "name": "python3",
      "display_name": "Python 3"
    }
  },
  "cells": [
    {
      "cell_type": "markdown",
      "metadata": {
        "id": "view-in-github",
        "colab_type": "text"
      },
      "source": [
        "<a href=\"https://colab.research.google.com/github/jazmin08ibieta/cyp_2021/blob/main/Tarea_5.ipynb\" target=\"_parent\"><img src=\"https://colab.research.google.com/assets/colab-badge.svg\" alt=\"Open In Colab\"/></a>"
      ]
    },
    {
      "cell_type": "code",
      "metadata": {
        "id": "Bi876v0agiGW"
      },
      "source": [
        "# Ejemplo 3.1\n",
        "\n",
        "nom = 0\n",
        "nomina = 0\n",
        "\n",
        "for i in [1,2,3,4,5,6,7,8,9,10]:\n",
        "   nom = float(input(f\"Ingrese la cantidad de sueldo {i} \"))\n",
        "\n",
        "   nomina += nom\n",
        "print(f\"La nomina es: $ {nomina}\")"
      ],
      "execution_count": null,
      "outputs": []
    },
    {
      "cell_type": "code",
      "metadata": {
        "id": "52iVeGzEqHNf"
      },
      "source": [
        "#Ejemplo 3.1 Sin estructuras repetitivas.\n",
        "\n",
        "nomina=0\n",
        "suel1=0\n",
        "suel2=0\n",
        "suel3=0\n",
        "suel4=0\n",
        "suel5=0\n",
        "suel6=0\n",
        "suel7=0\n",
        "suel8=0\n",
        "suel9=0\n",
        "suel10=0\n",
        "\n",
        "print(\"Ingrese la cantidad de los sueldos \")\n",
        "suel1=float(input())\n",
        "suel2=float(input())\n",
        "suel3=float(input())\n",
        "suel4=float(input())\n",
        "suel5=float(input())\n",
        "suel6=float(input())\n",
        "suel7=float(input())\n",
        "suel8=float(input())\n",
        "suel9=float(input())\n",
        "suel10=float(input())\n",
        "\n",
        "nomina= suel1+suel2+suel3+suel4+suel5+suel6+suel7+suel8+suel9+suel10\n",
        "print(\"La nomina total es: $ \", nomina)"
      ],
      "execution_count": null,
      "outputs": []
    },
    {
      "cell_type": "code",
      "metadata": {
        "id": "lrOsRPQf_y8Z"
      },
      "source": [
        "#Ejemplo 3.4 \n",
        "\n",
        "total = 0\n",
        "gasto = float\n",
        "\n",
        "gasto=float(input(\"Ingresa el gasto: \"))\n",
        "while gasto  > 1:\t\n",
        " total = total + gasto\n",
        " gasto=float(input(\"Ingresa el gasto: \"))\n",
        "  \n",
        "print(\"El gasto total es: $\" + str (total))"
      ],
      "execution_count": null,
      "outputs": []
    }
  ]
}