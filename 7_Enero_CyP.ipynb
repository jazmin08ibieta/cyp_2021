{
  "nbformat": 4,
  "nbformat_minor": 0,
  "metadata": {
    "colab": {
      "name": "7_Enero_CyP",
      "provenance": [],
      "authorship_tag": "ABX9TyO7zcoqEboDoUIBuPI7RIHD",
      "include_colab_link": true
    },
    "kernelspec": {
      "name": "python3",
      "display_name": "Python 3"
    }
  },
  "cells": [
    {
      "cell_type": "markdown",
      "metadata": {
        "id": "view-in-github",
        "colab_type": "text"
      },
      "source": [
        "<a href=\"https://colab.research.google.com/github/jazmin08ibieta/cyp_2021/blob/main/7_Enero_CyP.ipynb\" target=\"_parent\"><img src=\"https://colab.research.google.com/assets/colab-badge.svg\" alt=\"Open In Colab\"/></a>"
      ]
    },
    {
      "cell_type": "code",
      "metadata": {
        "colab": {
          "base_uri": "https://localhost:8080/"
        },
        "id": "b8hbNomu4krK",
        "outputId": "b3ed55a7-0c3a-402f-c523-5daaca419607"
      },
      "source": [
        "REN=3\r\n",
        "COL=5\r\n",
        "\r\n",
        "VEC=[ [0 for x in range(COL)] for x in range (REN)]\r\n",
        "print(VEC)\r\n",
        "VEC[1][2]=15\r\n",
        "print(VEC)\r\n",
        "\r\n",
        "print(\"Automatizar el recorrido del arreglo\")\r\n",
        "\r\n",
        "for i in range(REN):\r\n",
        "  for j in range(COL):\r\n",
        "    print(f\"{i},{j}={VEC[i][j]}\")"
      ],
      "execution_count": 6,
      "outputs": [
        {
          "output_type": "stream",
          "text": [
            "[[0, 0, 0, 0, 0], [0, 0, 0, 0, 0], [0, 0, 0, 0, 0]]\n",
            "[[0, 0, 0, 0, 0], [0, 0, 15, 0, 0], [0, 0, 0, 0, 0]]\n",
            "Automatizar el recorrido del arreglo\n",
            "0,0=0\n",
            "0,1=0\n",
            "0,2=0\n",
            "0,3=0\n",
            "0,4=0\n",
            "1,0=0\n",
            "1,1=0\n",
            "1,2=15\n",
            "1,3=0\n",
            "1,4=0\n",
            "2,0=0\n",
            "2,1=0\n",
            "2,2=0\n",
            "2,3=0\n",
            "2,4=0\n"
          ],
          "name": "stdout"
        }
      ]
    },
    {
      "cell_type": "code",
      "metadata": {
        "id": "0WwkoacDD-UL"
      },
      "source": [
        "est= int (input(\"Cuantos estados son?: \"))\r\n",
        "lluvias= [ [0 for x in range(12)] for x in range(estados)]\r\n",
        "for i in range(est):\r\n",
        "  for j in range (12):\r\n",
        "    mensaje=\"Dame el valor del estado \",str (i + 1),\"del mes\",str(j+1),\":\"\r\n",
        "    aux=int(input(mensaje))\r\n",
        "    lluvias[i][j]= aux\r\n",
        "print(lluvias)\r\n",
        "\r\n",
        "print(\"Promedio de lluvias en los estados: \")\r\n",
        "suma=0\r\n",
        "for i in range(est):\r\n",
        "  for j in range (12):\r\n",
        "    suma=suma+lluvias[i][j]\r\n",
        "  print(f\"El promedio de lluvias en el estado {i+1} es {suma/12}\")"
      ],
      "execution_count": null,
      "outputs": []
    }
  ]
}