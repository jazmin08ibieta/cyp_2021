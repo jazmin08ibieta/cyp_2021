{
  "nbformat": 4,
  "nbformat_minor": 0,
  "metadata": {
    "colab": {
      "name": "Tarea_7",
      "provenance": [],
      "authorship_tag": "ABX9TyOio/BkSGQy2hjZww3Toraj",
      "include_colab_link": true
    },
    "kernelspec": {
      "name": "python3",
      "display_name": "Python 3"
    }
  },
  "cells": [
    {
      "cell_type": "markdown",
      "metadata": {
        "id": "view-in-github",
        "colab_type": "text"
      },
      "source": [
        "<a href=\"https://colab.research.google.com/github/jazmin08ibieta/cyp_2021/blob/main/Tarea_7.ipynb\" target=\"_parent\"><img src=\"https://colab.research.google.com/assets/colab-badge.svg\" alt=\"Open In Colab\"/></a>"
      ]
    },
    {
      "cell_type": "code",
      "metadata": {
        "colab": {
          "base_uri": "https://localhost:8080/"
        },
        "id": "zZqAEfiKlkRs",
        "outputId": "08138da5-8ed1-490f-f915-e6d8f30a95cb"
      },
      "source": [
        "print(\"Ingrese cantidades positivas y maximo 30 paises\")\r\n",
        "\r\n",
        "TPS=int(input(\"Ingrese el numero de paises que desea ingresar de america del sur: \"))\r\n",
        "if TPS >=1 and TPS <=30:\r\n",
        " SUR=[0  for x in range(TPS)]\r\n",
        " for I in range (TPS):\r\n",
        "   SUR[I]=(input(\"Ingrese el nombre del pais: \"+ str(I+1) +\":\"))\r\n",
        "   print(SUR)\r\n",
        "\r\n",
        " TPC=int(input(\"Ingrese el numero de paises que desea ingresar de Centroamerica: \"))\r\n",
        " if TPC >=1 and TPC <=30:\r\n",
        "  CENTRO=[0  for x in range(TPC)]\r\n",
        "  for I in range (TPC):\r\n",
        "     CENTRO[I]=(input(\"Ingrese el nombre del pais: \"+ str(I+1) +\":\"))\r\n",
        "     print(CENTRO)\r\n",
        " else:\r\n",
        "   print(\"Compruebe sus datos e intentelo nuevamente\")\r\n",
        "\r\n",
        " TPN=int(input(\"Ingrese el numero de paises que desea ingresar de Norteamerica: \"))\r\n",
        " if TPN >=1 and TPN <=30:\r\n",
        "  NORTE=[0  for x in range(TPN)]\r\n",
        "  for I in range (TPN):\r\n",
        "     NORTE[I]=(input(\"Ingrese el nombre del pais: \"+ str(I+1) +\":\"))\r\n",
        "     print(NORTE)\r\n",
        "  SUR.sort()\r\n",
        "  NORTE.sort()\r\n",
        "  CENTRO.sort()\r\n",
        "  AMERICA=[SUR + CENTRO + NORTE]\r\n",
        "  AMERICA.sort()\r\n",
        "  print(f\"Los paises son: {sorted(AMERICA)}\")\r\n",
        " else:\r\n",
        "   print(\"Compruebe sus datos e intentelo nuevamente\")\r\n",
        "\r\n",
        "else:\r\n",
        "  print(\"Compruebe sus datos e intentelo nuevamente\")"
      ],
      "execution_count": 38,
      "outputs": [
        {
          "output_type": "stream",
          "text": [
            "Ingrese cantidades positivas y maximo 30 paises\n",
            "Ingrese el numero de paises que desea ingresar de america del sur: 3\n",
            "Ingrese el nombre del pais: 1:chile\n",
            "['chile', 0, 0]\n",
            "Ingrese el nombre del pais: 2:argentina\n",
            "['chile', 'argentina', 0]\n",
            "Ingrese el nombre del pais: 3:brazil\n",
            "['chile', 'argentina', 'brazil']\n",
            "Ingrese el numero de paises que desea ingresar de Centroamerica: 2\n",
            "Ingrese el nombre del pais: 1:honduras\n",
            "['honduras', 0]\n",
            "Ingrese el nombre del pais: 2:guatemala\n",
            "['honduras', 'guatemala']\n",
            "Ingrese el numero de paises que desea ingresar de Norteamerica: 2\n",
            "Ingrese el nombre del pais: 1:puerto rico\n",
            "['puerto rico', 0]\n",
            "Ingrese el nombre del pais: 2:mexico\n",
            "['puerto rico', 'mexico']\n",
            "Los paises son: [['argentina', 'brazil', 'chile', 'guatemala', 'honduras', 'mexico', 'puerto rico']]\n"
          ],
          "name": "stdout"
        }
      ]
    }
  ]
}